{
 "cells": [
  {
   "cell_type": "markdown",
   "id": "9de9a4db-faeb-4629-93d8-8a50805770a7",
   "metadata": {
    "jp-MarkdownHeadingCollapsed": true
   },
   "source": [
    "# Basic Exploration & Manipulation"
   ]
  },
  {
   "cell_type": "code",
   "execution_count": 248,
   "id": "6c239197-372b-4cde-96da-fb6474f507cf",
   "metadata": {},
   "outputs": [
    {
     "data": {
      "text/html": [
       "<div>\n",
       "<style scoped>\n",
       "    .dataframe tbody tr th:only-of-type {\n",
       "        vertical-align: middle;\n",
       "    }\n",
       "\n",
       "    .dataframe tbody tr th {\n",
       "        vertical-align: top;\n",
       "    }\n",
       "\n",
       "    .dataframe thead th {\n",
       "        text-align: right;\n",
       "    }\n",
       "</style>\n",
       "<table border=\"1\" class=\"dataframe\">\n",
       "  <thead>\n",
       "    <tr style=\"text-align: right;\">\n",
       "      <th></th>\n",
       "      <th>total_bill</th>\n",
       "      <th>tip</th>\n",
       "      <th>sex</th>\n",
       "      <th>smoker</th>\n",
       "      <th>day</th>\n",
       "      <th>time</th>\n",
       "      <th>size</th>\n",
       "    </tr>\n",
       "  </thead>\n",
       "  <tbody>\n",
       "    <tr>\n",
       "      <th>0</th>\n",
       "      <td>16.99</td>\n",
       "      <td>1.01</td>\n",
       "      <td>Female</td>\n",
       "      <td>No</td>\n",
       "      <td>Sun</td>\n",
       "      <td>Dinner</td>\n",
       "      <td>2</td>\n",
       "    </tr>\n",
       "    <tr>\n",
       "      <th>1</th>\n",
       "      <td>10.34</td>\n",
       "      <td>1.66</td>\n",
       "      <td>Male</td>\n",
       "      <td>No</td>\n",
       "      <td>Sun</td>\n",
       "      <td>Dinner</td>\n",
       "      <td>3</td>\n",
       "    </tr>\n",
       "    <tr>\n",
       "      <th>2</th>\n",
       "      <td>21.01</td>\n",
       "      <td>3.50</td>\n",
       "      <td>Male</td>\n",
       "      <td>No</td>\n",
       "      <td>Sun</td>\n",
       "      <td>Dinner</td>\n",
       "      <td>3</td>\n",
       "    </tr>\n",
       "    <tr>\n",
       "      <th>3</th>\n",
       "      <td>23.68</td>\n",
       "      <td>3.31</td>\n",
       "      <td>Male</td>\n",
       "      <td>No</td>\n",
       "      <td>Sun</td>\n",
       "      <td>Dinner</td>\n",
       "      <td>2</td>\n",
       "    </tr>\n",
       "    <tr>\n",
       "      <th>4</th>\n",
       "      <td>24.59</td>\n",
       "      <td>3.61</td>\n",
       "      <td>Female</td>\n",
       "      <td>No</td>\n",
       "      <td>Sun</td>\n",
       "      <td>Dinner</td>\n",
       "      <td>4</td>\n",
       "    </tr>\n",
       "    <tr>\n",
       "      <th>...</th>\n",
       "      <td>...</td>\n",
       "      <td>...</td>\n",
       "      <td>...</td>\n",
       "      <td>...</td>\n",
       "      <td>...</td>\n",
       "      <td>...</td>\n",
       "      <td>...</td>\n",
       "    </tr>\n",
       "    <tr>\n",
       "      <th>239</th>\n",
       "      <td>29.03</td>\n",
       "      <td>5.92</td>\n",
       "      <td>Male</td>\n",
       "      <td>No</td>\n",
       "      <td>Sat</td>\n",
       "      <td>Dinner</td>\n",
       "      <td>3</td>\n",
       "    </tr>\n",
       "    <tr>\n",
       "      <th>240</th>\n",
       "      <td>27.18</td>\n",
       "      <td>2.00</td>\n",
       "      <td>Female</td>\n",
       "      <td>Yes</td>\n",
       "      <td>Sat</td>\n",
       "      <td>Dinner</td>\n",
       "      <td>2</td>\n",
       "    </tr>\n",
       "    <tr>\n",
       "      <th>241</th>\n",
       "      <td>22.67</td>\n",
       "      <td>2.00</td>\n",
       "      <td>Male</td>\n",
       "      <td>Yes</td>\n",
       "      <td>Sat</td>\n",
       "      <td>Dinner</td>\n",
       "      <td>2</td>\n",
       "    </tr>\n",
       "    <tr>\n",
       "      <th>242</th>\n",
       "      <td>17.82</td>\n",
       "      <td>1.75</td>\n",
       "      <td>Male</td>\n",
       "      <td>No</td>\n",
       "      <td>Sat</td>\n",
       "      <td>Dinner</td>\n",
       "      <td>2</td>\n",
       "    </tr>\n",
       "    <tr>\n",
       "      <th>243</th>\n",
       "      <td>18.78</td>\n",
       "      <td>3.00</td>\n",
       "      <td>Female</td>\n",
       "      <td>No</td>\n",
       "      <td>Thur</td>\n",
       "      <td>Dinner</td>\n",
       "      <td>2</td>\n",
       "    </tr>\n",
       "  </tbody>\n",
       "</table>\n",
       "<p>244 rows × 7 columns</p>\n",
       "</div>"
      ],
      "text/plain": [
       "     total_bill   tip     sex smoker   day    time  size\n",
       "0         16.99  1.01  Female     No   Sun  Dinner     2\n",
       "1         10.34  1.66    Male     No   Sun  Dinner     3\n",
       "2         21.01  3.50    Male     No   Sun  Dinner     3\n",
       "3         23.68  3.31    Male     No   Sun  Dinner     2\n",
       "4         24.59  3.61  Female     No   Sun  Dinner     4\n",
       "..          ...   ...     ...    ...   ...     ...   ...\n",
       "239       29.03  5.92    Male     No   Sat  Dinner     3\n",
       "240       27.18  2.00  Female    Yes   Sat  Dinner     2\n",
       "241       22.67  2.00    Male    Yes   Sat  Dinner     2\n",
       "242       17.82  1.75    Male     No   Sat  Dinner     2\n",
       "243       18.78  3.00  Female     No  Thur  Dinner     2\n",
       "\n",
       "[244 rows x 7 columns]"
      ]
     },
     "execution_count": 248,
     "metadata": {},
     "output_type": "execute_result"
    }
   ],
   "source": [
    "import matplotlib.pyplot as plt\n",
    "import numpy as np\n",
    "import pandas as pd\n",
    "original = pd.read_csv('tips.csv')\n",
    "df = original.copy()\n",
    "df"
   ]
  },
  {
   "cell_type": "code",
   "execution_count": 249,
   "id": "4b53724e-6449-4a1e-8a2a-69775067589e",
   "metadata": {},
   "outputs": [
    {
     "name": "stdout",
     "output_type": "stream",
     "text": [
      "   total_bill   tip     sex smoker  day    time  size\n",
      "0       16.99  1.01  Female     No  Sun  Dinner     2\n",
      "1       10.34  1.66    Male     No  Sun  Dinner     3\n",
      "2       21.01  3.50    Male     No  Sun  Dinner     3\n",
      "3       23.68  3.31    Male     No  Sun  Dinner     2\n",
      "4       24.59  3.61  Female     No  Sun  Dinner     4\n",
      "5       25.29  4.71    Male     No  Sun  Dinner     4\n",
      "6        8.77  2.00    Male     No  Sun  Dinner     2\n",
      "7       26.88  3.12    Male     No  Sun  Dinner     4\n",
      "8       15.04  1.96    Male     No  Sun  Dinner     2\n",
      "9       14.78  3.23    Male     No  Sun  Dinner     2\n",
      "\n",
      "     total_bill   tip     sex smoker   day    time  size\n",
      "234       15.53  3.00    Male    Yes   Sat  Dinner     2\n",
      "235       10.07  1.25    Male     No   Sat  Dinner     2\n",
      "236       12.60  1.00    Male    Yes   Sat  Dinner     2\n",
      "237       32.83  1.17    Male    Yes   Sat  Dinner     2\n",
      "238       35.83  4.67  Female     No   Sat  Dinner     3\n",
      "239       29.03  5.92    Male     No   Sat  Dinner     3\n",
      "240       27.18  2.00  Female    Yes   Sat  Dinner     2\n",
      "241       22.67  2.00    Male    Yes   Sat  Dinner     2\n",
      "242       17.82  1.75    Male     No   Sat  Dinner     2\n",
      "243       18.78  3.00  Female     No  Thur  Dinner     2\n",
      "\n",
      "     total_bill   tip     sex smoker   day    time  size\n",
      "26        13.37  2.00    Male     No   Sat  Dinner     2\n",
      "236       12.60  1.00    Male    Yes   Sat  Dinner     2\n",
      "62        11.02  1.98    Male    Yes   Sat  Dinner     2\n",
      "159       16.49  2.00    Male     No   Sun  Dinner     4\n",
      "136       10.33  2.00  Female     No  Thur   Lunch     2\n",
      "116       29.93  5.07    Male     No   Sun  Dinner     4\n",
      "33        20.69  2.45  Female     No   Sat  Dinner     4\n",
      "208       24.27  2.03    Male    Yes   Sat  Dinner     2\n",
      "117       10.65  1.50  Female     No  Thur   Lunch     2\n",
      "168       10.59  1.61  Female    Yes   Sat  Dinner     2\n"
     ]
    }
   ],
   "source": [
    "# Viewing the data to understand it\n",
    "print(df.head(10))\n",
    "print()\n",
    "print(df.tail(10))\n",
    "print()\n",
    "print(df.sample(10))"
   ]
  },
  {
   "cell_type": "code",
   "execution_count": 250,
   "id": "f86bdb31-83d3-42b3-9dd0-c9ebfd455a51",
   "metadata": {},
   "outputs": [
    {
     "name": "stdout",
     "output_type": "stream",
     "text": [
      "total_bill    0\n",
      "tip           0\n",
      "sex           0\n",
      "smoker        0\n",
      "day           0\n",
      "time          0\n",
      "size          0\n",
      "dtype: int64\n",
      "\n",
      "total_bill    float64\n",
      "tip           float64\n",
      "sex            object\n",
      "smoker         object\n",
      "day            object\n",
      "time           object\n",
      "size            int64\n",
      "dtype: object\n"
     ]
    }
   ],
   "source": [
    "# Checking for any null values and seeing the data type for each column\n",
    "print(df.isnull().sum())\n",
    "print()\n",
    "print(df.dtypes)"
   ]
  },
  {
   "cell_type": "code",
   "execution_count": 251,
   "id": "37c36206-61a1-4780-b12e-abd2be33934f",
   "metadata": {},
   "outputs": [
    {
     "name": "stdout",
     "output_type": "stream",
     "text": [
      "['Female' 'Male'] ['No' 'Yes'] ['Sun' 'Sat' 'Thur' 'Fri'] ['Dinner' 'Lunch']\n"
     ]
    }
   ],
   "source": [
    "# Seeing the unique values for each text column\n",
    "print(df['sex'].unique(), df['smoker'].unique(),df['day'].unique(),df['time'].unique())"
   ]
  },
  {
   "cell_type": "code",
   "execution_count": 252,
   "id": "6d6ca408-5095-4ab6-b0b4-526be79915c2",
   "metadata": {},
   "outputs": [
    {
     "data": {
      "text/html": [
       "<div>\n",
       "<style scoped>\n",
       "    .dataframe tbody tr th:only-of-type {\n",
       "        vertical-align: middle;\n",
       "    }\n",
       "\n",
       "    .dataframe tbody tr th {\n",
       "        vertical-align: top;\n",
       "    }\n",
       "\n",
       "    .dataframe thead th {\n",
       "        text-align: right;\n",
       "    }\n",
       "</style>\n",
       "<table border=\"1\" class=\"dataframe\">\n",
       "  <thead>\n",
       "    <tr style=\"text-align: right;\">\n",
       "      <th></th>\n",
       "      <th>total_bill</th>\n",
       "      <th>tip</th>\n",
       "      <th>sex</th>\n",
       "      <th>smoker</th>\n",
       "      <th>day</th>\n",
       "      <th>time</th>\n",
       "      <th>size</th>\n",
       "    </tr>\n",
       "  </thead>\n",
       "  <tbody>\n",
       "    <tr>\n",
       "      <th>198</th>\n",
       "      <td>13.0</td>\n",
       "      <td>2.0</td>\n",
       "      <td>Female</td>\n",
       "      <td>Yes</td>\n",
       "      <td>Thur</td>\n",
       "      <td>Lunch</td>\n",
       "      <td>2</td>\n",
       "    </tr>\n",
       "    <tr>\n",
       "      <th>202</th>\n",
       "      <td>13.0</td>\n",
       "      <td>2.0</td>\n",
       "      <td>Female</td>\n",
       "      <td>Yes</td>\n",
       "      <td>Thur</td>\n",
       "      <td>Lunch</td>\n",
       "      <td>2</td>\n",
       "    </tr>\n",
       "  </tbody>\n",
       "</table>\n",
       "</div>"
      ],
      "text/plain": [
       "     total_bill  tip     sex smoker   day   time  size\n",
       "198        13.0  2.0  Female    Yes  Thur  Lunch     2\n",
       "202        13.0  2.0  Female    Yes  Thur  Lunch     2"
      ]
     },
     "execution_count": 252,
     "metadata": {},
     "output_type": "execute_result"
    }
   ],
   "source": [
    "# Finding duplicate rows\n",
    "df[df.duplicated(keep = False) == True]"
   ]
  },
  {
   "cell_type": "code",
   "execution_count": 253,
   "id": "af8653aa-5c6a-45a3-a2cc-8db323e5d1ea",
   "metadata": {},
   "outputs": [
    {
     "data": {
      "text/html": [
       "<div>\n",
       "<style scoped>\n",
       "    .dataframe tbody tr th:only-of-type {\n",
       "        vertical-align: middle;\n",
       "    }\n",
       "\n",
       "    .dataframe tbody tr th {\n",
       "        vertical-align: top;\n",
       "    }\n",
       "\n",
       "    .dataframe thead th {\n",
       "        text-align: right;\n",
       "    }\n",
       "</style>\n",
       "<table border=\"1\" class=\"dataframe\">\n",
       "  <thead>\n",
       "    <tr style=\"text-align: right;\">\n",
       "      <th></th>\n",
       "      <th>total_bill</th>\n",
       "      <th>tip</th>\n",
       "      <th>sex</th>\n",
       "      <th>smoker</th>\n",
       "      <th>day</th>\n",
       "      <th>time</th>\n",
       "      <th>size</th>\n",
       "    </tr>\n",
       "  </thead>\n",
       "  <tbody>\n",
       "    <tr>\n",
       "      <th>0</th>\n",
       "      <td>16.99</td>\n",
       "      <td>1.01</td>\n",
       "      <td>Female</td>\n",
       "      <td>No</td>\n",
       "      <td>Sun</td>\n",
       "      <td>Dinner</td>\n",
       "      <td>2</td>\n",
       "    </tr>\n",
       "    <tr>\n",
       "      <th>1</th>\n",
       "      <td>10.34</td>\n",
       "      <td>1.66</td>\n",
       "      <td>Male</td>\n",
       "      <td>No</td>\n",
       "      <td>Sun</td>\n",
       "      <td>Dinner</td>\n",
       "      <td>3</td>\n",
       "    </tr>\n",
       "    <tr>\n",
       "      <th>2</th>\n",
       "      <td>21.01</td>\n",
       "      <td>3.50</td>\n",
       "      <td>Male</td>\n",
       "      <td>No</td>\n",
       "      <td>Sun</td>\n",
       "      <td>Dinner</td>\n",
       "      <td>3</td>\n",
       "    </tr>\n",
       "    <tr>\n",
       "      <th>3</th>\n",
       "      <td>23.68</td>\n",
       "      <td>3.31</td>\n",
       "      <td>Male</td>\n",
       "      <td>No</td>\n",
       "      <td>Sun</td>\n",
       "      <td>Dinner</td>\n",
       "      <td>2</td>\n",
       "    </tr>\n",
       "    <tr>\n",
       "      <th>4</th>\n",
       "      <td>24.59</td>\n",
       "      <td>3.61</td>\n",
       "      <td>Female</td>\n",
       "      <td>No</td>\n",
       "      <td>Sun</td>\n",
       "      <td>Dinner</td>\n",
       "      <td>4</td>\n",
       "    </tr>\n",
       "    <tr>\n",
       "      <th>...</th>\n",
       "      <td>...</td>\n",
       "      <td>...</td>\n",
       "      <td>...</td>\n",
       "      <td>...</td>\n",
       "      <td>...</td>\n",
       "      <td>...</td>\n",
       "      <td>...</td>\n",
       "    </tr>\n",
       "    <tr>\n",
       "      <th>239</th>\n",
       "      <td>29.03</td>\n",
       "      <td>5.92</td>\n",
       "      <td>Male</td>\n",
       "      <td>No</td>\n",
       "      <td>Sat</td>\n",
       "      <td>Dinner</td>\n",
       "      <td>3</td>\n",
       "    </tr>\n",
       "    <tr>\n",
       "      <th>240</th>\n",
       "      <td>27.18</td>\n",
       "      <td>2.00</td>\n",
       "      <td>Female</td>\n",
       "      <td>Yes</td>\n",
       "      <td>Sat</td>\n",
       "      <td>Dinner</td>\n",
       "      <td>2</td>\n",
       "    </tr>\n",
       "    <tr>\n",
       "      <th>241</th>\n",
       "      <td>22.67</td>\n",
       "      <td>2.00</td>\n",
       "      <td>Male</td>\n",
       "      <td>Yes</td>\n",
       "      <td>Sat</td>\n",
       "      <td>Dinner</td>\n",
       "      <td>2</td>\n",
       "    </tr>\n",
       "    <tr>\n",
       "      <th>242</th>\n",
       "      <td>17.82</td>\n",
       "      <td>1.75</td>\n",
       "      <td>Male</td>\n",
       "      <td>No</td>\n",
       "      <td>Sat</td>\n",
       "      <td>Dinner</td>\n",
       "      <td>2</td>\n",
       "    </tr>\n",
       "    <tr>\n",
       "      <th>243</th>\n",
       "      <td>18.78</td>\n",
       "      <td>3.00</td>\n",
       "      <td>Female</td>\n",
       "      <td>No</td>\n",
       "      <td>Thur</td>\n",
       "      <td>Dinner</td>\n",
       "      <td>2</td>\n",
       "    </tr>\n",
       "  </tbody>\n",
       "</table>\n",
       "<p>243 rows × 7 columns</p>\n",
       "</div>"
      ],
      "text/plain": [
       "     total_bill   tip     sex smoker   day    time  size\n",
       "0         16.99  1.01  Female     No   Sun  Dinner     2\n",
       "1         10.34  1.66    Male     No   Sun  Dinner     3\n",
       "2         21.01  3.50    Male     No   Sun  Dinner     3\n",
       "3         23.68  3.31    Male     No   Sun  Dinner     2\n",
       "4         24.59  3.61  Female     No   Sun  Dinner     4\n",
       "..          ...   ...     ...    ...   ...     ...   ...\n",
       "239       29.03  5.92    Male     No   Sat  Dinner     3\n",
       "240       27.18  2.00  Female    Yes   Sat  Dinner     2\n",
       "241       22.67  2.00    Male    Yes   Sat  Dinner     2\n",
       "242       17.82  1.75    Male     No   Sat  Dinner     2\n",
       "243       18.78  3.00  Female     No  Thur  Dinner     2\n",
       "\n",
       "[243 rows x 7 columns]"
      ]
     },
     "execution_count": 253,
     "metadata": {},
     "output_type": "execute_result"
    }
   ],
   "source": [
    "# Removing duplicate rows\n",
    "df.drop_duplicates(inplace = True)\n",
    "df"
   ]
  },
  {
   "cell_type": "code",
   "execution_count": 254,
   "id": "c7eebc8d-52f5-4fd4-870d-e4743825b535",
   "metadata": {},
   "outputs": [
    {
     "data": {
      "image/png": "[encoded data removed]",
      "text/plain": [
       "<Figure size 640x480 with 1 Axes>"
      ]
     },
     "metadata": {},
     "output_type": "display_data"
    }
   ],
   "source": [
    "# Finding all outliers for the numerical columns\n",
    "boxplot = df.boxplot(column=['total_bill', 'tip', 'size'])\n",
    "plt.show()"
   ]
  },
  {
   "cell_type": "code",
   "execution_count": 255,
   "id": "3adda8a4-10a9-4089-bea7-2ad77ff2dd20",
   "metadata": {},
   "outputs": [
    {
     "data": {
      "text/html": [
       "<div>\n",
       "<style scoped>\n",
       "    .dataframe tbody tr th:only-of-type {\n",
       "        vertical-align: middle;\n",
       "    }\n",
       "\n",
       "    .dataframe tbody tr th {\n",
       "        vertical-align: top;\n",
       "    }\n",
       "\n",
       "    .dataframe thead th {\n",
       "        text-align: right;\n",
       "    }\n",
       "</style>\n",
       "<table border=\"1\" class=\"dataframe\">\n",
       "  <thead>\n",
       "    <tr style=\"text-align: right;\">\n",
       "      <th></th>\n",
       "      <th>total_bill</th>\n",
       "      <th>tip</th>\n",
       "      <th>sex</th>\n",
       "      <th>smoker</th>\n",
       "      <th>day</th>\n",
       "      <th>time</th>\n",
       "      <th>size</th>\n",
       "    </tr>\n",
       "  </thead>\n",
       "  <tbody>\n",
       "    <tr>\n",
       "      <th>0</th>\n",
       "      <td>16.99</td>\n",
       "      <td>1.01</td>\n",
       "      <td>Female</td>\n",
       "      <td>No</td>\n",
       "      <td>Sun</td>\n",
       "      <td>Dinner</td>\n",
       "      <td>2</td>\n",
       "    </tr>\n",
       "    <tr>\n",
       "      <th>1</th>\n",
       "      <td>10.34</td>\n",
       "      <td>1.66</td>\n",
       "      <td>Male</td>\n",
       "      <td>No</td>\n",
       "      <td>Sun</td>\n",
       "      <td>Dinner</td>\n",
       "      <td>3</td>\n",
       "    </tr>\n",
       "    <tr>\n",
       "      <th>2</th>\n",
       "      <td>21.01</td>\n",
       "      <td>3.50</td>\n",
       "      <td>Male</td>\n",
       "      <td>No</td>\n",
       "      <td>Sun</td>\n",
       "      <td>Dinner</td>\n",
       "      <td>3</td>\n",
       "    </tr>\n",
       "    <tr>\n",
       "      <th>3</th>\n",
       "      <td>23.68</td>\n",
       "      <td>3.31</td>\n",
       "      <td>Male</td>\n",
       "      <td>No</td>\n",
       "      <td>Sun</td>\n",
       "      <td>Dinner</td>\n",
       "      <td>2</td>\n",
       "    </tr>\n",
       "    <tr>\n",
       "      <th>4</th>\n",
       "      <td>24.59</td>\n",
       "      <td>3.61</td>\n",
       "      <td>Female</td>\n",
       "      <td>No</td>\n",
       "      <td>Sun</td>\n",
       "      <td>Dinner</td>\n",
       "      <td>4</td>\n",
       "    </tr>\n",
       "    <tr>\n",
       "      <th>...</th>\n",
       "      <td>...</td>\n",
       "      <td>...</td>\n",
       "      <td>...</td>\n",
       "      <td>...</td>\n",
       "      <td>...</td>\n",
       "      <td>...</td>\n",
       "      <td>...</td>\n",
       "    </tr>\n",
       "    <tr>\n",
       "      <th>239</th>\n",
       "      <td>29.03</td>\n",
       "      <td>5.92</td>\n",
       "      <td>Male</td>\n",
       "      <td>No</td>\n",
       "      <td>Sat</td>\n",
       "      <td>Dinner</td>\n",
       "      <td>3</td>\n",
       "    </tr>\n",
       "    <tr>\n",
       "      <th>240</th>\n",
       "      <td>27.18</td>\n",
       "      <td>2.00</td>\n",
       "      <td>Female</td>\n",
       "      <td>Yes</td>\n",
       "      <td>Sat</td>\n",
       "      <td>Dinner</td>\n",
       "      <td>2</td>\n",
       "    </tr>\n",
       "    <tr>\n",
       "      <th>241</th>\n",
       "      <td>22.67</td>\n",
       "      <td>2.00</td>\n",
       "      <td>Male</td>\n",
       "      <td>Yes</td>\n",
       "      <td>Sat</td>\n",
       "      <td>Dinner</td>\n",
       "      <td>2</td>\n",
       "    </tr>\n",
       "    <tr>\n",
       "      <th>242</th>\n",
       "      <td>17.82</td>\n",
       "      <td>1.75</td>\n",
       "      <td>Male</td>\n",
       "      <td>No</td>\n",
       "      <td>Sat</td>\n",
       "      <td>Dinner</td>\n",
       "      <td>2</td>\n",
       "    </tr>\n",
       "    <tr>\n",
       "      <th>243</th>\n",
       "      <td>18.78</td>\n",
       "      <td>3.00</td>\n",
       "      <td>Female</td>\n",
       "      <td>No</td>\n",
       "      <td>Thur</td>\n",
       "      <td>Dinner</td>\n",
       "      <td>2</td>\n",
       "    </tr>\n",
       "  </tbody>\n",
       "</table>\n",
       "<p>234 rows × 7 columns</p>\n",
       "</div>"
      ],
      "text/plain": [
       "     total_bill   tip     sex smoker   day    time  size\n",
       "0         16.99  1.01  Female     No   Sun  Dinner     2\n",
       "1         10.34  1.66    Male     No   Sun  Dinner     3\n",
       "2         21.01  3.50    Male     No   Sun  Dinner     3\n",
       "3         23.68  3.31    Male     No   Sun  Dinner     2\n",
       "4         24.59  3.61  Female     No   Sun  Dinner     4\n",
       "..          ...   ...     ...    ...   ...     ...   ...\n",
       "239       29.03  5.92    Male     No   Sat  Dinner     3\n",
       "240       27.18  2.00  Female    Yes   Sat  Dinner     2\n",
       "241       22.67  2.00    Male    Yes   Sat  Dinner     2\n",
       "242       17.82  1.75    Male     No   Sat  Dinner     2\n",
       "243       18.78  3.00  Female     No  Thur  Dinner     2\n",
       "\n",
       "[234 rows x 7 columns]"
      ]
     },
     "execution_count": 255,
     "metadata": {},
     "output_type": "execute_result"
    }
   ],
   "source": [
    "# Since there are no lower outliers, only the upper outliers are removed\n",
    "q1 = df['total_bill'].quantile(0.25)\n",
    "q3 = df['total_bill'].quantile(0.75)\n",
    "iqr = q3 - q1\n",
    "\n",
    "outliers = df.loc[(df['total_bill'] > q3 + 1.5 * iqr)].index\n",
    "\n",
    "df.drop(outliers, inplace = True)\n",
    "df"
   ]
  },
  {
   "cell_type": "code",
   "execution_count": 256,
   "id": "4467d2a3-0b60-4c7e-9cc3-a3003b88ae2d",
   "metadata": {},
   "outputs": [
    {
     "data": {
      "text/html": [
       "<div>\n",
       "<style scoped>\n",
       "    .dataframe tbody tr th:only-of-type {\n",
       "        vertical-align: middle;\n",
       "    }\n",
       "\n",
       "    .dataframe tbody tr th {\n",
       "        vertical-align: top;\n",
       "    }\n",
       "\n",
       "    .dataframe thead th {\n",
       "        text-align: right;\n",
       "    }\n",
       "</style>\n",
       "<table border=\"1\" class=\"dataframe\">\n",
       "  <thead>\n",
       "    <tr style=\"text-align: right;\">\n",
       "      <th></th>\n",
       "      <th>total_bill</th>\n",
       "      <th>tip</th>\n",
       "      <th>sex</th>\n",
       "      <th>smoker</th>\n",
       "      <th>day</th>\n",
       "      <th>time</th>\n",
       "      <th>size</th>\n",
       "    </tr>\n",
       "  </thead>\n",
       "  <tbody>\n",
       "    <tr>\n",
       "      <th>0</th>\n",
       "      <td>16.99</td>\n",
       "      <td>1.01</td>\n",
       "      <td>Female</td>\n",
       "      <td>No</td>\n",
       "      <td>Sun</td>\n",
       "      <td>Dinner</td>\n",
       "      <td>2</td>\n",
       "    </tr>\n",
       "    <tr>\n",
       "      <th>1</th>\n",
       "      <td>10.34</td>\n",
       "      <td>1.66</td>\n",
       "      <td>Male</td>\n",
       "      <td>No</td>\n",
       "      <td>Sun</td>\n",
       "      <td>Dinner</td>\n",
       "      <td>3</td>\n",
       "    </tr>\n",
       "    <tr>\n",
       "      <th>2</th>\n",
       "      <td>21.01</td>\n",
       "      <td>3.50</td>\n",
       "      <td>Male</td>\n",
       "      <td>No</td>\n",
       "      <td>Sun</td>\n",
       "      <td>Dinner</td>\n",
       "      <td>3</td>\n",
       "    </tr>\n",
       "    <tr>\n",
       "      <th>3</th>\n",
       "      <td>23.68</td>\n",
       "      <td>3.31</td>\n",
       "      <td>Male</td>\n",
       "      <td>No</td>\n",
       "      <td>Sun</td>\n",
       "      <td>Dinner</td>\n",
       "      <td>2</td>\n",
       "    </tr>\n",
       "    <tr>\n",
       "      <th>4</th>\n",
       "      <td>24.59</td>\n",
       "      <td>3.61</td>\n",
       "      <td>Female</td>\n",
       "      <td>No</td>\n",
       "      <td>Sun</td>\n",
       "      <td>Dinner</td>\n",
       "      <td>4</td>\n",
       "    </tr>\n",
       "    <tr>\n",
       "      <th>...</th>\n",
       "      <td>...</td>\n",
       "      <td>...</td>\n",
       "      <td>...</td>\n",
       "      <td>...</td>\n",
       "      <td>...</td>\n",
       "      <td>...</td>\n",
       "      <td>...</td>\n",
       "    </tr>\n",
       "    <tr>\n",
       "      <th>238</th>\n",
       "      <td>35.83</td>\n",
       "      <td>4.67</td>\n",
       "      <td>Female</td>\n",
       "      <td>No</td>\n",
       "      <td>Sat</td>\n",
       "      <td>Dinner</td>\n",
       "      <td>3</td>\n",
       "    </tr>\n",
       "    <tr>\n",
       "      <th>240</th>\n",
       "      <td>27.18</td>\n",
       "      <td>2.00</td>\n",
       "      <td>Female</td>\n",
       "      <td>Yes</td>\n",
       "      <td>Sat</td>\n",
       "      <td>Dinner</td>\n",
       "      <td>2</td>\n",
       "    </tr>\n",
       "    <tr>\n",
       "      <th>241</th>\n",
       "      <td>22.67</td>\n",
       "      <td>2.00</td>\n",
       "      <td>Male</td>\n",
       "      <td>Yes</td>\n",
       "      <td>Sat</td>\n",
       "      <td>Dinner</td>\n",
       "      <td>2</td>\n",
       "    </tr>\n",
       "    <tr>\n",
       "      <th>242</th>\n",
       "      <td>17.82</td>\n",
       "      <td>1.75</td>\n",
       "      <td>Male</td>\n",
       "      <td>No</td>\n",
       "      <td>Sat</td>\n",
       "      <td>Dinner</td>\n",
       "      <td>2</td>\n",
       "    </tr>\n",
       "    <tr>\n",
       "      <th>243</th>\n",
       "      <td>18.78</td>\n",
       "      <td>3.00</td>\n",
       "      <td>Female</td>\n",
       "      <td>No</td>\n",
       "      <td>Thur</td>\n",
       "      <td>Dinner</td>\n",
       "      <td>2</td>\n",
       "    </tr>\n",
       "  </tbody>\n",
       "</table>\n",
       "<p>227 rows × 7 columns</p>\n",
       "</div>"
      ],
      "text/plain": [
       "     total_bill   tip     sex smoker   day    time  size\n",
       "0         16.99  1.01  Female     No   Sun  Dinner     2\n",
       "1         10.34  1.66    Male     No   Sun  Dinner     3\n",
       "2         21.01  3.50    Male     No   Sun  Dinner     3\n",
       "3         23.68  3.31    Male     No   Sun  Dinner     2\n",
       "4         24.59  3.61  Female     No   Sun  Dinner     4\n",
       "..          ...   ...     ...    ...   ...     ...   ...\n",
       "238       35.83  4.67  Female     No   Sat  Dinner     3\n",
       "240       27.18  2.00  Female    Yes   Sat  Dinner     2\n",
       "241       22.67  2.00    Male    Yes   Sat  Dinner     2\n",
       "242       17.82  1.75    Male     No   Sat  Dinner     2\n",
       "243       18.78  3.00  Female     No  Thur  Dinner     2\n",
       "\n",
       "[227 rows x 7 columns]"
      ]
     },
     "execution_count": 256,
     "metadata": {},
     "output_type": "execute_result"
    }
   ],
   "source": [
    "q1 = df['tip'].quantile(0.25)\n",
    "q3 = df['tip'].quantile(0.75)\n",
    "iqr = q3 - q1\n",
    "\n",
    "outliers = df.loc[(df['tip'] > q3 + 1.5 * iqr)].index\n",
    "\n",
    "df.drop(outliers, inplace = True)\n",
    "df"
   ]
  },
  {
   "cell_type": "code",
   "execution_count": 257,
   "id": "c06abc3f-b34e-463d-adf6-9e01bdcfc799",
   "metadata": {},
   "outputs": [
    {
     "data": {
      "text/html": [
       "<div>\n",
       "<style scoped>\n",
       "    .dataframe tbody tr th:only-of-type {\n",
       "        vertical-align: middle;\n",
       "    }\n",
       "\n",
       "    .dataframe tbody tr th {\n",
       "        vertical-align: top;\n",
       "    }\n",
       "\n",
       "    .dataframe thead th {\n",
       "        text-align: right;\n",
       "    }\n",
       "</style>\n",
       "<table border=\"1\" class=\"dataframe\">\n",
       "  <thead>\n",
       "    <tr style=\"text-align: right;\">\n",
       "      <th></th>\n",
       "      <th>total_bill</th>\n",
       "      <th>tip</th>\n",
       "      <th>sex</th>\n",
       "      <th>smoker</th>\n",
       "      <th>day</th>\n",
       "      <th>time</th>\n",
       "      <th>size</th>\n",
       "    </tr>\n",
       "  </thead>\n",
       "  <tbody>\n",
       "    <tr>\n",
       "      <th>0</th>\n",
       "      <td>16.99</td>\n",
       "      <td>1.01</td>\n",
       "      <td>Female</td>\n",
       "      <td>No</td>\n",
       "      <td>Sun</td>\n",
       "      <td>Dinner</td>\n",
       "      <td>2</td>\n",
       "    </tr>\n",
       "    <tr>\n",
       "      <th>1</th>\n",
       "      <td>10.34</td>\n",
       "      <td>1.66</td>\n",
       "      <td>Male</td>\n",
       "      <td>No</td>\n",
       "      <td>Sun</td>\n",
       "      <td>Dinner</td>\n",
       "      <td>3</td>\n",
       "    </tr>\n",
       "    <tr>\n",
       "      <th>2</th>\n",
       "      <td>21.01</td>\n",
       "      <td>3.50</td>\n",
       "      <td>Male</td>\n",
       "      <td>No</td>\n",
       "      <td>Sun</td>\n",
       "      <td>Dinner</td>\n",
       "      <td>3</td>\n",
       "    </tr>\n",
       "    <tr>\n",
       "      <th>3</th>\n",
       "      <td>23.68</td>\n",
       "      <td>3.31</td>\n",
       "      <td>Male</td>\n",
       "      <td>No</td>\n",
       "      <td>Sun</td>\n",
       "      <td>Dinner</td>\n",
       "      <td>2</td>\n",
       "    </tr>\n",
       "    <tr>\n",
       "      <th>4</th>\n",
       "      <td>24.59</td>\n",
       "      <td>3.61</td>\n",
       "      <td>Female</td>\n",
       "      <td>No</td>\n",
       "      <td>Sun</td>\n",
       "      <td>Dinner</td>\n",
       "      <td>4</td>\n",
       "    </tr>\n",
       "    <tr>\n",
       "      <th>...</th>\n",
       "      <td>...</td>\n",
       "      <td>...</td>\n",
       "      <td>...</td>\n",
       "      <td>...</td>\n",
       "      <td>...</td>\n",
       "      <td>...</td>\n",
       "      <td>...</td>\n",
       "    </tr>\n",
       "    <tr>\n",
       "      <th>238</th>\n",
       "      <td>35.83</td>\n",
       "      <td>4.67</td>\n",
       "      <td>Female</td>\n",
       "      <td>No</td>\n",
       "      <td>Sat</td>\n",
       "      <td>Dinner</td>\n",
       "      <td>3</td>\n",
       "    </tr>\n",
       "    <tr>\n",
       "      <th>240</th>\n",
       "      <td>27.18</td>\n",
       "      <td>2.00</td>\n",
       "      <td>Female</td>\n",
       "      <td>Yes</td>\n",
       "      <td>Sat</td>\n",
       "      <td>Dinner</td>\n",
       "      <td>2</td>\n",
       "    </tr>\n",
       "    <tr>\n",
       "      <th>241</th>\n",
       "      <td>22.67</td>\n",
       "      <td>2.00</td>\n",
       "      <td>Male</td>\n",
       "      <td>Yes</td>\n",
       "      <td>Sat</td>\n",
       "      <td>Dinner</td>\n",
       "      <td>2</td>\n",
       "    </tr>\n",
       "    <tr>\n",
       "      <th>242</th>\n",
       "      <td>17.82</td>\n",
       "      <td>1.75</td>\n",
       "      <td>Male</td>\n",
       "      <td>No</td>\n",
       "      <td>Sat</td>\n",
       "      <td>Dinner</td>\n",
       "      <td>2</td>\n",
       "    </tr>\n",
       "    <tr>\n",
       "      <th>243</th>\n",
       "      <td>18.78</td>\n",
       "      <td>3.00</td>\n",
       "      <td>Female</td>\n",
       "      <td>No</td>\n",
       "      <td>Thur</td>\n",
       "      <td>Dinner</td>\n",
       "      <td>2</td>\n",
       "    </tr>\n",
       "  </tbody>\n",
       "</table>\n",
       "<p>221 rows × 7 columns</p>\n",
       "</div>"
      ],
      "text/plain": [
       "     total_bill   tip     sex smoker   day    time  size\n",
       "0         16.99  1.01  Female     No   Sun  Dinner     2\n",
       "1         10.34  1.66    Male     No   Sun  Dinner     3\n",
       "2         21.01  3.50    Male     No   Sun  Dinner     3\n",
       "3         23.68  3.31    Male     No   Sun  Dinner     2\n",
       "4         24.59  3.61  Female     No   Sun  Dinner     4\n",
       "..          ...   ...     ...    ...   ...     ...   ...\n",
       "238       35.83  4.67  Female     No   Sat  Dinner     3\n",
       "240       27.18  2.00  Female    Yes   Sat  Dinner     2\n",
       "241       22.67  2.00    Male    Yes   Sat  Dinner     2\n",
       "242       17.82  1.75    Male     No   Sat  Dinner     2\n",
       "243       18.78  3.00  Female     No  Thur  Dinner     2\n",
       "\n",
       "[221 rows x 7 columns]"
      ]
     },
     "execution_count": 257,
     "metadata": {},
     "output_type": "execute_result"
    }
   ],
   "source": [
    "q1 = df['size'].quantile(0.25)\n",
    "q3 = df['size'].quantile(0.75)\n",
    "iqr = q3 - q1\n",
    "\n",
    "outliers = df.loc[(df['size'] > q3 + 1.5 * iqr)].index\n",
    "\n",
    "df.drop(outliers, inplace = True)\n",
    "df"
   ]
  },
  {
   "cell_type": "code",
   "execution_count": 258,
   "id": "08fe3677-50d8-4540-be88-51e5cca910ec",
   "metadata": {},
   "outputs": [
    {
     "data": {
      "text/html": [
       "<div>\n",
       "<style scoped>\n",
       "    .dataframe tbody tr th:only-of-type {\n",
       "        vertical-align: middle;\n",
       "    }\n",
       "\n",
       "    .dataframe tbody tr th {\n",
       "        vertical-align: top;\n",
       "    }\n",
       "\n",
       "    .dataframe thead th {\n",
       "        text-align: right;\n",
       "    }\n",
       "</style>\n",
       "<table border=\"1\" class=\"dataframe\">\n",
       "  <thead>\n",
       "    <tr style=\"text-align: right;\">\n",
       "      <th></th>\n",
       "      <th>total_bill</th>\n",
       "      <th>tip</th>\n",
       "      <th>sex</th>\n",
       "      <th>smoker</th>\n",
       "      <th>day</th>\n",
       "      <th>time</th>\n",
       "      <th>size</th>\n",
       "    </tr>\n",
       "  </thead>\n",
       "  <tbody>\n",
       "    <tr>\n",
       "      <th>0</th>\n",
       "      <td>16.99</td>\n",
       "      <td>1.01</td>\n",
       "      <td>Female</td>\n",
       "      <td>No</td>\n",
       "      <td>Sun</td>\n",
       "      <td>Dinner</td>\n",
       "      <td>2</td>\n",
       "    </tr>\n",
       "    <tr>\n",
       "      <th>1</th>\n",
       "      <td>10.34</td>\n",
       "      <td>1.66</td>\n",
       "      <td>Male</td>\n",
       "      <td>No</td>\n",
       "      <td>Sun</td>\n",
       "      <td>Dinner</td>\n",
       "      <td>3</td>\n",
       "    </tr>\n",
       "    <tr>\n",
       "      <th>2</th>\n",
       "      <td>21.01</td>\n",
       "      <td>3.50</td>\n",
       "      <td>Male</td>\n",
       "      <td>No</td>\n",
       "      <td>Sun</td>\n",
       "      <td>Dinner</td>\n",
       "      <td>3</td>\n",
       "    </tr>\n",
       "    <tr>\n",
       "      <th>3</th>\n",
       "      <td>23.68</td>\n",
       "      <td>3.31</td>\n",
       "      <td>Male</td>\n",
       "      <td>No</td>\n",
       "      <td>Sun</td>\n",
       "      <td>Dinner</td>\n",
       "      <td>2</td>\n",
       "    </tr>\n",
       "    <tr>\n",
       "      <th>4</th>\n",
       "      <td>24.59</td>\n",
       "      <td>3.61</td>\n",
       "      <td>Female</td>\n",
       "      <td>No</td>\n",
       "      <td>Sun</td>\n",
       "      <td>Dinner</td>\n",
       "      <td>4</td>\n",
       "    </tr>\n",
       "    <tr>\n",
       "      <th>...</th>\n",
       "      <td>...</td>\n",
       "      <td>...</td>\n",
       "      <td>...</td>\n",
       "      <td>...</td>\n",
       "      <td>...</td>\n",
       "      <td>...</td>\n",
       "      <td>...</td>\n",
       "    </tr>\n",
       "    <tr>\n",
       "      <th>216</th>\n",
       "      <td>35.83</td>\n",
       "      <td>4.67</td>\n",
       "      <td>Female</td>\n",
       "      <td>No</td>\n",
       "      <td>Sat</td>\n",
       "      <td>Dinner</td>\n",
       "      <td>3</td>\n",
       "    </tr>\n",
       "    <tr>\n",
       "      <th>217</th>\n",
       "      <td>27.18</td>\n",
       "      <td>2.00</td>\n",
       "      <td>Female</td>\n",
       "      <td>Yes</td>\n",
       "      <td>Sat</td>\n",
       "      <td>Dinner</td>\n",
       "      <td>2</td>\n",
       "    </tr>\n",
       "    <tr>\n",
       "      <th>218</th>\n",
       "      <td>22.67</td>\n",
       "      <td>2.00</td>\n",
       "      <td>Male</td>\n",
       "      <td>Yes</td>\n",
       "      <td>Sat</td>\n",
       "      <td>Dinner</td>\n",
       "      <td>2</td>\n",
       "    </tr>\n",
       "    <tr>\n",
       "      <th>219</th>\n",
       "      <td>17.82</td>\n",
       "      <td>1.75</td>\n",
       "      <td>Male</td>\n",
       "      <td>No</td>\n",
       "      <td>Sat</td>\n",
       "      <td>Dinner</td>\n",
       "      <td>2</td>\n",
       "    </tr>\n",
       "    <tr>\n",
       "      <th>220</th>\n",
       "      <td>18.78</td>\n",
       "      <td>3.00</td>\n",
       "      <td>Female</td>\n",
       "      <td>No</td>\n",
       "      <td>Thur</td>\n",
       "      <td>Dinner</td>\n",
       "      <td>2</td>\n",
       "    </tr>\n",
       "  </tbody>\n",
       "</table>\n",
       "<p>221 rows × 7 columns</p>\n",
       "</div>"
      ],
      "text/plain": [
       "     total_bill   tip     sex smoker   day    time  size\n",
       "0         16.99  1.01  Female     No   Sun  Dinner     2\n",
       "1         10.34  1.66    Male     No   Sun  Dinner     3\n",
       "2         21.01  3.50    Male     No   Sun  Dinner     3\n",
       "3         23.68  3.31    Male     No   Sun  Dinner     2\n",
       "4         24.59  3.61  Female     No   Sun  Dinner     4\n",
       "..          ...   ...     ...    ...   ...     ...   ...\n",
       "216       35.83  4.67  Female     No   Sat  Dinner     3\n",
       "217       27.18  2.00  Female    Yes   Sat  Dinner     2\n",
       "218       22.67  2.00    Male    Yes   Sat  Dinner     2\n",
       "219       17.82  1.75    Male     No   Sat  Dinner     2\n",
       "220       18.78  3.00  Female     No  Thur  Dinner     2\n",
       "\n",
       "[221 rows x 7 columns]"
      ]
     },
     "execution_count": 258,
     "metadata": {},
     "output_type": "execute_result"
    }
   ],
   "source": [
    "# Resetting the indexes\n",
    "df.reset_index(inplace = True, drop = True)\n",
    "df"
   ]
  },
  {
   "cell_type": "code",
   "execution_count": 259,
   "id": "e44fada4-df6b-479f-b44c-bf362b150f6b",
   "metadata": {},
   "outputs": [
    {
     "data": {
      "text/html": [
       "<div>\n",
       "<style scoped>\n",
       "    .dataframe tbody tr th:only-of-type {\n",
       "        vertical-align: middle;\n",
       "    }\n",
       "\n",
       "    .dataframe tbody tr th {\n",
       "        vertical-align: top;\n",
       "    }\n",
       "\n",
       "    .dataframe thead th {\n",
       "        text-align: right;\n",
       "    }\n",
       "</style>\n",
       "<table border=\"1\" class=\"dataframe\">\n",
       "  <thead>\n",
       "    <tr style=\"text-align: right;\">\n",
       "      <th></th>\n",
       "      <th>total_bill</th>\n",
       "      <th>tip</th>\n",
       "      <th>sex</th>\n",
       "      <th>smoker</th>\n",
       "      <th>day</th>\n",
       "      <th>time</th>\n",
       "      <th>size</th>\n",
       "      <th>tip_percentage</th>\n",
       "    </tr>\n",
       "  </thead>\n",
       "  <tbody>\n",
       "    <tr>\n",
       "      <th>0</th>\n",
       "      <td>16.99</td>\n",
       "      <td>1.01</td>\n",
       "      <td>Female</td>\n",
       "      <td>No</td>\n",
       "      <td>Sun</td>\n",
       "      <td>Dinner</td>\n",
       "      <td>2</td>\n",
       "      <td>5.94</td>\n",
       "    </tr>\n",
       "    <tr>\n",
       "      <th>1</th>\n",
       "      <td>10.34</td>\n",
       "      <td>1.66</td>\n",
       "      <td>Male</td>\n",
       "      <td>No</td>\n",
       "      <td>Sun</td>\n",
       "      <td>Dinner</td>\n",
       "      <td>3</td>\n",
       "      <td>16.05</td>\n",
       "    </tr>\n",
       "    <tr>\n",
       "      <th>2</th>\n",
       "      <td>21.01</td>\n",
       "      <td>3.50</td>\n",
       "      <td>Male</td>\n",
       "      <td>No</td>\n",
       "      <td>Sun</td>\n",
       "      <td>Dinner</td>\n",
       "      <td>3</td>\n",
       "      <td>16.66</td>\n",
       "    </tr>\n",
       "    <tr>\n",
       "      <th>3</th>\n",
       "      <td>23.68</td>\n",
       "      <td>3.31</td>\n",
       "      <td>Male</td>\n",
       "      <td>No</td>\n",
       "      <td>Sun</td>\n",
       "      <td>Dinner</td>\n",
       "      <td>2</td>\n",
       "      <td>13.98</td>\n",
       "    </tr>\n",
       "    <tr>\n",
       "      <th>4</th>\n",
       "      <td>24.59</td>\n",
       "      <td>3.61</td>\n",
       "      <td>Female</td>\n",
       "      <td>No</td>\n",
       "      <td>Sun</td>\n",
       "      <td>Dinner</td>\n",
       "      <td>4</td>\n",
       "      <td>14.68</td>\n",
       "    </tr>\n",
       "    <tr>\n",
       "      <th>...</th>\n",
       "      <td>...</td>\n",
       "      <td>...</td>\n",
       "      <td>...</td>\n",
       "      <td>...</td>\n",
       "      <td>...</td>\n",
       "      <td>...</td>\n",
       "      <td>...</td>\n",
       "      <td>...</td>\n",
       "    </tr>\n",
       "    <tr>\n",
       "      <th>216</th>\n",
       "      <td>35.83</td>\n",
       "      <td>4.67</td>\n",
       "      <td>Female</td>\n",
       "      <td>No</td>\n",
       "      <td>Sat</td>\n",
       "      <td>Dinner</td>\n",
       "      <td>3</td>\n",
       "      <td>13.03</td>\n",
       "    </tr>\n",
       "    <tr>\n",
       "      <th>217</th>\n",
       "      <td>27.18</td>\n",
       "      <td>2.00</td>\n",
       "      <td>Female</td>\n",
       "      <td>Yes</td>\n",
       "      <td>Sat</td>\n",
       "      <td>Dinner</td>\n",
       "      <td>2</td>\n",
       "      <td>7.36</td>\n",
       "    </tr>\n",
       "    <tr>\n",
       "      <th>218</th>\n",
       "      <td>22.67</td>\n",
       "      <td>2.00</td>\n",
       "      <td>Male</td>\n",
       "      <td>Yes</td>\n",
       "      <td>Sat</td>\n",
       "      <td>Dinner</td>\n",
       "      <td>2</td>\n",
       "      <td>8.82</td>\n",
       "    </tr>\n",
       "    <tr>\n",
       "      <th>219</th>\n",
       "      <td>17.82</td>\n",
       "      <td>1.75</td>\n",
       "      <td>Male</td>\n",
       "      <td>No</td>\n",
       "      <td>Sat</td>\n",
       "      <td>Dinner</td>\n",
       "      <td>2</td>\n",
       "      <td>9.82</td>\n",
       "    </tr>\n",
       "    <tr>\n",
       "      <th>220</th>\n",
       "      <td>18.78</td>\n",
       "      <td>3.00</td>\n",
       "      <td>Female</td>\n",
       "      <td>No</td>\n",
       "      <td>Thur</td>\n",
       "      <td>Dinner</td>\n",
       "      <td>2</td>\n",
       "      <td>15.97</td>\n",
       "    </tr>\n",
       "  </tbody>\n",
       "</table>\n",
       "<p>221 rows × 8 columns</p>\n",
       "</div>"
      ],
      "text/plain": [
       "     total_bill   tip     sex smoker   day    time  size  tip_percentage\n",
       "0         16.99  1.01  Female     No   Sun  Dinner     2            5.94\n",
       "1         10.34  1.66    Male     No   Sun  Dinner     3           16.05\n",
       "2         21.01  3.50    Male     No   Sun  Dinner     3           16.66\n",
       "3         23.68  3.31    Male     No   Sun  Dinner     2           13.98\n",
       "4         24.59  3.61  Female     No   Sun  Dinner     4           14.68\n",
       "..          ...   ...     ...    ...   ...     ...   ...             ...\n",
       "216       35.83  4.67  Female     No   Sat  Dinner     3           13.03\n",
       "217       27.18  2.00  Female    Yes   Sat  Dinner     2            7.36\n",
       "218       22.67  2.00    Male    Yes   Sat  Dinner     2            8.82\n",
       "219       17.82  1.75    Male     No   Sat  Dinner     2            9.82\n",
       "220       18.78  3.00  Female     No  Thur  Dinner     2           15.97\n",
       "\n",
       "[221 rows x 8 columns]"
      ]
     },
     "execution_count": 259,
     "metadata": {},
     "output_type": "execute_result"
    }
   ],
   "source": [
    "# Adding a tip percentage column\n",
    "tip_percentage = ((df['tip']/df['total_bill']) * 100).round(2)\n",
    "df['tip_percentage'] = tip_percentage\n",
    "df"
   ]
  },
  {
   "cell_type": "code",
   "execution_count": 260,
   "id": "64bbdffd-2e36-468d-b329-3d55f37b9bc5",
   "metadata": {},
   "outputs": [
    {
     "data": {
      "text/plain": [
       "['total_bill', 'tip', 'sex', 'smoker', 'day', 'time', 'size', 'tip_percentage']"
      ]
     },
     "execution_count": 260,
     "metadata": {},
     "output_type": "execute_result"
    }
   ],
   "source": [
    "# Re-arranging the columns\n",
    "columns = df.columns.tolist()\n",
    "columns"
   ]
  },
  {
   "cell_type": "code",
   "execution_count": 261,
   "id": "c0234cd1-ef49-4bba-a00d-26d3be12e64a",
   "metadata": {},
   "outputs": [
    {
     "data": {
      "text/plain": [
       "['total_bill', 'tip', 'tip_percentage', 'sex', 'smoker', 'day', 'time', 'size']"
      ]
     },
     "execution_count": 261,
     "metadata": {},
     "output_type": "execute_result"
    }
   ],
   "source": [
    "columns = columns[:2] + columns[-1:] + columns[2:7]\n",
    "columns"
   ]
  },
  {
   "cell_type": "code",
   "execution_count": 262,
   "id": "2541c1b2-737b-4e5f-bc22-4c5705346dd3",
   "metadata": {},
   "outputs": [
    {
     "data": {
      "text/html": [
       "<div>\n",
       "<style scoped>\n",
       "    .dataframe tbody tr th:only-of-type {\n",
       "        vertical-align: middle;\n",
       "    }\n",
       "\n",
       "    .dataframe tbody tr th {\n",
       "        vertical-align: top;\n",
       "    }\n",
       "\n",
       "    .dataframe thead th {\n",
       "        text-align: right;\n",
       "    }\n",
       "</style>\n",
       "<table border=\"1\" class=\"dataframe\">\n",
       "  <thead>\n",
       "    <tr style=\"text-align: right;\">\n",
       "      <th></th>\n",
       "      <th>total_bill</th>\n",
       "      <th>tip</th>\n",
       "      <th>tip_percentage</th>\n",
       "      <th>sex</th>\n",
       "      <th>smoker</th>\n",
       "      <th>day</th>\n",
       "      <th>time</th>\n",
       "      <th>size</th>\n",
       "    </tr>\n",
       "  </thead>\n",
       "  <tbody>\n",
       "    <tr>\n",
       "      <th>0</th>\n",
       "      <td>16.99</td>\n",
       "      <td>1.01</td>\n",
       "      <td>5.94</td>\n",
       "      <td>Female</td>\n",
       "      <td>No</td>\n",
       "      <td>Sun</td>\n",
       "      <td>Dinner</td>\n",
       "      <td>2</td>\n",
       "    </tr>\n",
       "    <tr>\n",
       "      <th>1</th>\n",
       "      <td>10.34</td>\n",
       "      <td>1.66</td>\n",
       "      <td>16.05</td>\n",
       "      <td>Male</td>\n",
       "      <td>No</td>\n",
       "      <td>Sun</td>\n",
       "      <td>Dinner</td>\n",
       "      <td>3</td>\n",
       "    </tr>\n",
       "    <tr>\n",
       "      <th>2</th>\n",
       "      <td>21.01</td>\n",
       "      <td>3.50</td>\n",
       "      <td>16.66</td>\n",
       "      <td>Male</td>\n",
       "      <td>No</td>\n",
       "      <td>Sun</td>\n",
       "      <td>Dinner</td>\n",
       "      <td>3</td>\n",
       "    </tr>\n",
       "    <tr>\n",
       "      <th>3</th>\n",
       "      <td>23.68</td>\n",
       "      <td>3.31</td>\n",
       "      <td>13.98</td>\n",
       "      <td>Male</td>\n",
       "      <td>No</td>\n",
       "      <td>Sun</td>\n",
       "      <td>Dinner</td>\n",
       "      <td>2</td>\n",
       "    </tr>\n",
       "    <tr>\n",
       "      <th>4</th>\n",
       "      <td>24.59</td>\n",
       "      <td>3.61</td>\n",
       "      <td>14.68</td>\n",
       "      <td>Female</td>\n",
       "      <td>No</td>\n",
       "      <td>Sun</td>\n",
       "      <td>Dinner</td>\n",
       "      <td>4</td>\n",
       "    </tr>\n",
       "    <tr>\n",
       "      <th>...</th>\n",
       "      <td>...</td>\n",
       "      <td>...</td>\n",
       "      <td>...</td>\n",
       "      <td>...</td>\n",
       "      <td>...</td>\n",
       "      <td>...</td>\n",
       "      <td>...</td>\n",
       "      <td>...</td>\n",
       "    </tr>\n",
       "    <tr>\n",
       "      <th>216</th>\n",
       "      <td>35.83</td>\n",
       "      <td>4.67</td>\n",
       "      <td>13.03</td>\n",
       "      <td>Female</td>\n",
       "      <td>No</td>\n",
       "      <td>Sat</td>\n",
       "      <td>Dinner</td>\n",
       "      <td>3</td>\n",
       "    </tr>\n",
       "    <tr>\n",
       "      <th>217</th>\n",
       "      <td>27.18</td>\n",
       "      <td>2.00</td>\n",
       "      <td>7.36</td>\n",
       "      <td>Female</td>\n",
       "      <td>Yes</td>\n",
       "      <td>Sat</td>\n",
       "      <td>Dinner</td>\n",
       "      <td>2</td>\n",
       "    </tr>\n",
       "    <tr>\n",
       "      <th>218</th>\n",
       "      <td>22.67</td>\n",
       "      <td>2.00</td>\n",
       "      <td>8.82</td>\n",
       "      <td>Male</td>\n",
       "      <td>Yes</td>\n",
       "      <td>Sat</td>\n",
       "      <td>Dinner</td>\n",
       "      <td>2</td>\n",
       "    </tr>\n",
       "    <tr>\n",
       "      <th>219</th>\n",
       "      <td>17.82</td>\n",
       "      <td>1.75</td>\n",
       "      <td>9.82</td>\n",
       "      <td>Male</td>\n",
       "      <td>No</td>\n",
       "      <td>Sat</td>\n",
       "      <td>Dinner</td>\n",
       "      <td>2</td>\n",
       "    </tr>\n",
       "    <tr>\n",
       "      <th>220</th>\n",
       "      <td>18.78</td>\n",
       "      <td>3.00</td>\n",
       "      <td>15.97</td>\n",
       "      <td>Female</td>\n",
       "      <td>No</td>\n",
       "      <td>Thur</td>\n",
       "      <td>Dinner</td>\n",
       "      <td>2</td>\n",
       "    </tr>\n",
       "  </tbody>\n",
       "</table>\n",
       "<p>221 rows × 8 columns</p>\n",
       "</div>"
      ],
      "text/plain": [
       "     total_bill   tip  tip_percentage     sex smoker   day    time  size\n",
       "0         16.99  1.01            5.94  Female     No   Sun  Dinner     2\n",
       "1         10.34  1.66           16.05    Male     No   Sun  Dinner     3\n",
       "2         21.01  3.50           16.66    Male     No   Sun  Dinner     3\n",
       "3         23.68  3.31           13.98    Male     No   Sun  Dinner     2\n",
       "4         24.59  3.61           14.68  Female     No   Sun  Dinner     4\n",
       "..          ...   ...             ...     ...    ...   ...     ...   ...\n",
       "216       35.83  4.67           13.03  Female     No   Sat  Dinner     3\n",
       "217       27.18  2.00            7.36  Female    Yes   Sat  Dinner     2\n",
       "218       22.67  2.00            8.82    Male    Yes   Sat  Dinner     2\n",
       "219       17.82  1.75            9.82    Male     No   Sat  Dinner     2\n",
       "220       18.78  3.00           15.97  Female     No  Thur  Dinner     2\n",
       "\n",
       "[221 rows x 8 columns]"
      ]
     },
     "execution_count": 262,
     "metadata": {},
     "output_type": "execute_result"
    }
   ],
   "source": [
    "df = df[columns]\n",
    "df"
   ]
  },
  {
   "cell_type": "markdown",
   "id": "21a49303-4ca5-460c-a1fe-0ab00ca94bce",
   "metadata": {
    "jp-MarkdownHeadingCollapsed": true
   },
   "source": [
    "# Q1: What is the average tip, bill amount, and size?"
   ]
  },
  {
   "cell_type": "code",
   "execution_count": 263,
   "id": "8b42e3a4-3a6b-4d8c-9947-005c2e25e33f",
   "metadata": {},
   "outputs": [
    {
     "data": {
      "text/html": [
       "<div>\n",
       "<style scoped>\n",
       "    .dataframe tbody tr th:only-of-type {\n",
       "        vertical-align: middle;\n",
       "    }\n",
       "\n",
       "    .dataframe tbody tr th {\n",
       "        vertical-align: top;\n",
       "    }\n",
       "\n",
       "    .dataframe thead th {\n",
       "        text-align: right;\n",
       "    }\n",
       "</style>\n",
       "<table border=\"1\" class=\"dataframe\">\n",
       "  <thead>\n",
       "    <tr style=\"text-align: right;\">\n",
       "      <th></th>\n",
       "      <th>total_bill</th>\n",
       "      <th>tip</th>\n",
       "      <th>tip_percentage</th>\n",
       "      <th>sex</th>\n",
       "      <th>smoker</th>\n",
       "      <th>day</th>\n",
       "      <th>time</th>\n",
       "      <th>size</th>\n",
       "    </tr>\n",
       "  </thead>\n",
       "  <tbody>\n",
       "    <tr>\n",
       "      <th>count</th>\n",
       "      <td>221.000000</td>\n",
       "      <td>221.000000</td>\n",
       "      <td>221.000000</td>\n",
       "      <td>221</td>\n",
       "      <td>221</td>\n",
       "      <td>221</td>\n",
       "      <td>221</td>\n",
       "      <td>221.000000</td>\n",
       "    </tr>\n",
       "    <tr>\n",
       "      <th>unique</th>\n",
       "      <td>NaN</td>\n",
       "      <td>NaN</td>\n",
       "      <td>NaN</td>\n",
       "      <td>2</td>\n",
       "      <td>2</td>\n",
       "      <td>4</td>\n",
       "      <td>2</td>\n",
       "      <td>NaN</td>\n",
       "    </tr>\n",
       "    <tr>\n",
       "      <th>top</th>\n",
       "      <td>NaN</td>\n",
       "      <td>NaN</td>\n",
       "      <td>NaN</td>\n",
       "      <td>Male</td>\n",
       "      <td>No</td>\n",
       "      <td>Sat</td>\n",
       "      <td>Dinner</td>\n",
       "      <td>NaN</td>\n",
       "    </tr>\n",
       "    <tr>\n",
       "      <th>freq</th>\n",
       "      <td>NaN</td>\n",
       "      <td>NaN</td>\n",
       "      <td>NaN</td>\n",
       "      <td>141</td>\n",
       "      <td>138</td>\n",
       "      <td>79</td>\n",
       "      <td>160</td>\n",
       "      <td>NaN</td>\n",
       "    </tr>\n",
       "    <tr>\n",
       "      <th>mean</th>\n",
       "      <td>18.223937</td>\n",
       "      <td>2.762262</td>\n",
       "      <td>16.096425</td>\n",
       "      <td>NaN</td>\n",
       "      <td>NaN</td>\n",
       "      <td>NaN</td>\n",
       "      <td>NaN</td>\n",
       "      <td>2.411765</td>\n",
       "    </tr>\n",
       "    <tr>\n",
       "      <th>std</th>\n",
       "      <td>7.136796</td>\n",
       "      <td>1.045498</td>\n",
       "      <td>6.113924</td>\n",
       "      <td>NaN</td>\n",
       "      <td>NaN</td>\n",
       "      <td>NaN</td>\n",
       "      <td>NaN</td>\n",
       "      <td>0.749331</td>\n",
       "    </tr>\n",
       "    <tr>\n",
       "      <th>min</th>\n",
       "      <td>3.070000</td>\n",
       "      <td>1.000000</td>\n",
       "      <td>3.560000</td>\n",
       "      <td>NaN</td>\n",
       "      <td>NaN</td>\n",
       "      <td>NaN</td>\n",
       "      <td>NaN</td>\n",
       "      <td>1.000000</td>\n",
       "    </tr>\n",
       "    <tr>\n",
       "      <th>25%</th>\n",
       "      <td>13.030000</td>\n",
       "      <td>2.000000</td>\n",
       "      <td>13.030000</td>\n",
       "      <td>NaN</td>\n",
       "      <td>NaN</td>\n",
       "      <td>NaN</td>\n",
       "      <td>NaN</td>\n",
       "      <td>2.000000</td>\n",
       "    </tr>\n",
       "    <tr>\n",
       "      <th>50%</th>\n",
       "      <td>16.970000</td>\n",
       "      <td>2.610000</td>\n",
       "      <td>15.430000</td>\n",
       "      <td>NaN</td>\n",
       "      <td>NaN</td>\n",
       "      <td>NaN</td>\n",
       "      <td>NaN</td>\n",
       "      <td>2.000000</td>\n",
       "    </tr>\n",
       "    <tr>\n",
       "      <th>75%</th>\n",
       "      <td>22.120000</td>\n",
       "      <td>3.480000</td>\n",
       "      <td>18.840000</td>\n",
       "      <td>NaN</td>\n",
       "      <td>NaN</td>\n",
       "      <td>NaN</td>\n",
       "      <td>NaN</td>\n",
       "      <td>3.000000</td>\n",
       "    </tr>\n",
       "    <tr>\n",
       "      <th>max</th>\n",
       "      <td>40.170000</td>\n",
       "      <td>5.650000</td>\n",
       "      <td>71.030000</td>\n",
       "      <td>NaN</td>\n",
       "      <td>NaN</td>\n",
       "      <td>NaN</td>\n",
       "      <td>NaN</td>\n",
       "      <td>4.000000</td>\n",
       "    </tr>\n",
       "  </tbody>\n",
       "</table>\n",
       "</div>"
      ],
      "text/plain": [
       "        total_bill         tip  tip_percentage   sex smoker  day    time  \\\n",
       "count   221.000000  221.000000      221.000000   221    221  221     221   \n",
       "unique         NaN         NaN             NaN     2      2    4       2   \n",
       "top            NaN         NaN             NaN  Male     No  Sat  Dinner   \n",
       "freq           NaN         NaN             NaN   141    138   79     160   \n",
       "mean     18.223937    2.762262       16.096425   NaN    NaN  NaN     NaN   \n",
       "std       7.136796    1.045498        6.113924   NaN    NaN  NaN     NaN   \n",
       "min       3.070000    1.000000        3.560000   NaN    NaN  NaN     NaN   \n",
       "25%      13.030000    2.000000       13.030000   NaN    NaN  NaN     NaN   \n",
       "50%      16.970000    2.610000       15.430000   NaN    NaN  NaN     NaN   \n",
       "75%      22.120000    3.480000       18.840000   NaN    NaN  NaN     NaN   \n",
       "max      40.170000    5.650000       71.030000   NaN    NaN  NaN     NaN   \n",
       "\n",
       "              size  \n",
       "count   221.000000  \n",
       "unique         NaN  \n",
       "top            NaN  \n",
       "freq           NaN  \n",
       "mean      2.411765  \n",
       "std       0.749331  \n",
       "min       1.000000  \n",
       "25%       2.000000  \n",
       "50%       2.000000  \n",
       "75%       3.000000  \n",
       "max       4.000000  "
      ]
     },
     "execution_count": 263,
     "metadata": {},
     "output_type": "execute_result"
    }
   ],
   "source": [
    "# Viewing basic statistics for all columns\n",
    "df.describe(include = 'all')"
   ]
  },
  {
   "cell_type": "raw",
   "id": "3c0db56c-540b-4681-a037-343c1c92dafa",
   "metadata": {},
   "source": [
    "    * On average, customers tip 16% of their total bill, with the actual average value being $2.76\n",
    "    * The average bill amount is $18.22\n",
    "    * The average size of the parties who come into the restaurant is 2"
   ]
  },
  {
   "cell_type": "markdown",
   "id": "bb2d589e-3947-4404-b2fa-10d43028dbfc",
   "metadata": {
    "jp-MarkdownHeadingCollapsed": true
   },
   "source": [
    "# Q2: What can the historical data tell us about how the total bill amount is affected by the other columns? "
   ]
  },
  {
   "cell_type": "markdown",
   "id": "7ee634bb-1a9f-44eb-8970-b90bba3fa6fa",
   "metadata": {},
   "source": [
    "## Customer Gender & Total Bill Amt"
   ]
  },
  {
   "cell_type": "code",
   "execution_count": 264,
   "id": "345cb6ae-2fe7-4789-8263-038aa211e8c8",
   "metadata": {},
   "outputs": [
    {
     "data": {
      "image/png": "[encoded data removed]",
      "text/plain": [
       "<Figure size 640x480 with 1 Axes>"
      ]
     },
     "metadata": {},
     "output_type": "display_data"
    }
   ],
   "source": [
    "grouped_df = df.groupby('sex')['total_bill'].mean()\n",
    "grouped_df.plot(kind = 'bar')\n",
    "plt.show()"
   ]
  },
  {
   "cell_type": "markdown",
   "id": "2fbb4112-c601-43b0-8ac6-e463e93c7f99",
   "metadata": {},
   "source": [
    "On average, the men spend more by $2 or so."
   ]
  },
  {
   "cell_type": "markdown",
   "id": "1c1fe4a7-b971-43cb-8dd3-340b63eb1e2f",
   "metadata": {},
   "source": [
    "## Smoker & Total Bill Amt"
   ]
  },
  {
   "cell_type": "code",
   "execution_count": 265,
   "id": "c28202f6-a0da-44f3-93f8-dc696697641d",
   "metadata": {},
   "outputs": [
    {
     "data": {
      "image/png": "[encoded data removed]",
      "text/plain": [
       "<Figure size 640x480 with 1 Axes>"
      ]
     },
     "metadata": {},
     "output_type": "display_data"
    }
   ],
   "source": [
    "grouped_df2 = df.groupby('smoker')['total_bill'].mean()\n",
    "grouped_df2.plot(kind = 'bar')\n",
    "plt.show()"
   ]
  },
  {
   "cell_type": "markdown",
   "id": "0f057975-4361-40fa-8a57-e3b24d94560f",
   "metadata": {},
   "source": [
    "Those who smoke spend about $1.5 more than those who don't smoke."
   ]
  },
  {
   "cell_type": "markdown",
   "id": "b6bcdeac-79fc-4614-9cd2-fdb874a059ed",
   "metadata": {},
   "source": [
    "## Day & Total Bill Amt"
   ]
  },
  {
   "cell_type": "code",
   "execution_count": 266,
   "id": "8724a01f-5060-4732-b210-0db5c44aa88c",
   "metadata": {},
   "outputs": [
    {
     "data": {
      "image/png": "[encoded data removed]",
      "text/plain": [
       "<Figure size 640x480 with 1 Axes>"
      ]
     },
     "metadata": {},
     "output_type": "display_data"
    }
   ],
   "source": [
    "grouped_df3 = df.groupby('day')['total_bill'].mean()\n",
    "grouped_df3.plot(kind = 'bar')\n",
    "plt.show()"
   ]
  },
  {
   "cell_type": "raw",
   "id": "426c38a2-aaf3-4460-b951-15609a95738f",
   "metadata": {},
   "source": [
    "Sunday's seem to be the best day for the restuarant, with the average bill being just below $20. This is followed by Saturday (with an average bill of $18.5), then Friday (with an average bill of around $17.5), and finally Thursday (with an average bill of around $15)."
   ]
  },
  {
   "cell_type": "markdown",
   "id": "94ba5adb-a263-47ba-86d7-6acf7ffb9a0d",
   "metadata": {},
   "source": [
    "## Time & Total Bill Amt"
   ]
  },
  {
   "cell_type": "code",
   "execution_count": 267,
   "id": "33d65167-721e-42aa-b8df-505c936e4a2d",
   "metadata": {},
   "outputs": [
    {
     "data": {
      "image/png": "[encoded data removed]",
      "text/plain": [
       "<Figure size 640x480 with 1 Axes>"
      ]
     },
     "metadata": {},
     "output_type": "display_data"
    }
   ],
   "source": [
    "grouped_df4 = df.groupby('time')['total_bill'].mean()\n",
    "grouped_df4.plot(kind = 'bar')\n",
    "plt.show()"
   ]
  },
  {
   "cell_type": "raw",
   "id": "9a47594e-f56b-4f6d-90dc-692144adeb95",
   "metadata": {},
   "source": [
    "Dinner time results in a higher total bill amount by far, with the average bill amount being around $19 while the lunch time average bill amount is closer to an amount between $15 and $16."
   ]
  },
  {
   "cell_type": "markdown",
   "id": "9df6c10a-c5e2-412c-a8c2-c39b9f6ee04a",
   "metadata": {},
   "source": [
    "## Group Size & Total Bill Amt"
   ]
  },
  {
   "cell_type": "code",
   "execution_count": 268,
   "id": "ecf460b6-4806-47fd-9bbc-43ca939a1346",
   "metadata": {},
   "outputs": [
    {
     "data": {
      "image/png": "[encoded data removed]",
      "text/plain": [
       "<Figure size 640x480 with 1 Axes>"
      ]
     },
     "metadata": {},
     "output_type": "display_data"
    }
   ],
   "source": [
    "grouped_df5 = df.groupby('size')['total_bill'].mean()\n",
    "grouped_df5.plot(kind = 'bar')\n",
    "plt.show()"
   ]
  },
  {
   "cell_type": "markdown",
   "id": "72228c14-b698-4b94-965e-615b90bf1730",
   "metadata": {},
   "source": [
    "As expected, more money is being spent the higher the party size is."
   ]
  },
  {
   "cell_type": "markdown",
   "id": "df93f243-7069-4374-a875-f6096eaf7a67",
   "metadata": {
    "jp-MarkdownHeadingCollapsed": true
   },
   "source": [
    "# Q3: What can the historical data tell us about how the tip amount is affected by the other columns? "
   ]
  },
  {
   "cell_type": "markdown",
   "id": "020fe9eb-6882-4e03-b8d3-3271d6762812",
   "metadata": {},
   "source": [
    "## Group Size & Tip Amt"
   ]
  },
  {
   "cell_type": "code",
   "execution_count": 269,
   "id": "5c4f1327-4d17-4b85-8b51-3aa42dcbf2c1",
   "metadata": {},
   "outputs": [
    {
     "data": {
      "image/png": "[encoded data removed]",
      "text/plain": [
       "<Figure size 640x480 with 1 Axes>"
      ]
     },
     "metadata": {},
     "output_type": "display_data"
    }
   ],
   "source": [
    "grouped_df6 = df.groupby('size')['tip'].mean()\n",
    "grouped_df6.plot(kind = 'bar')\n",
    "plt.show()"
   ]
  },
  {
   "cell_type": "markdown",
   "id": "367615b2-7467-4c41-9418-5197a649e11b",
   "metadata": {},
   "source": [
    "As expected, the higher the party size, the more tips the workers receive."
   ]
  },
  {
   "cell_type": "markdown",
   "id": "bd6d7b6d-eb51-405b-a41f-deb5ca284c42",
   "metadata": {},
   "source": [
    "## Time & Tip Amt"
   ]
  },
  {
   "cell_type": "code",
   "execution_count": 270,
   "id": "3de3451a-fc04-4d06-9547-7bbabc38a175",
   "metadata": {},
   "outputs": [
    {
     "data": {
      "image/png": "[encoded data removed]",
      "text/plain": [
       "<Figure size 640x480 with 1 Axes>"
      ]
     },
     "metadata": {},
     "output_type": "display_data"
    }
   ],
   "source": [
    "grouped_df7 = df.groupby('time')['tip'].mean()\n",
    "grouped_df7.plot(kind = 'bar')\n",
    "plt.show()"
   ]
  },
  {
   "cell_type": "markdown",
   "id": "1cb75414-226a-4bc2-95ad-8802c3fcf303",
   "metadata": {},
   "source": [
    "Since the total bill amount is higher during dinner time, it follows that the tip amount is also higher than the tips earned by the workers during lunch time."
   ]
  },
  {
   "cell_type": "markdown",
   "id": "b7616b02-62f4-46ab-a6e4-a99819488b67",
   "metadata": {},
   "source": [
    "## Day & Tip Amt"
   ]
  },
  {
   "cell_type": "code",
   "execution_count": 271,
   "id": "180a4689-2c84-4d1f-98a2-475c7ec33008",
   "metadata": {},
   "outputs": [
    {
     "data": {
      "image/png": "[encoded data removed]",
      "text/plain": [
       "<Figure size 640x480 with 1 Axes>"
      ]
     },
     "metadata": {},
     "output_type": "display_data"
    }
   ],
   "source": [
    "grouped_df8 = df.groupby('day')['tip'].mean()\n",
    "grouped_df8.plot(kind = 'bar')\n",
    "plt.show()"
   ]
  },
  {
   "cell_type": "markdown",
   "id": "afdb7b5e-50ff-4d24-b299-380fbff8dae1",
   "metadata": {},
   "source": [
    "Sunday's results in the workers receiving more tips followed by Friday, Saturday, and then Thursday."
   ]
  },
  {
   "cell_type": "markdown",
   "id": "78d516bc-e0d0-4664-936b-e8922661071b",
   "metadata": {},
   "source": [
    "## Smoker & Tip Amt"
   ]
  },
  {
   "cell_type": "code",
   "execution_count": 272,
   "id": "d758c9d3-faec-4ee9-92fd-d032ee858446",
   "metadata": {},
   "outputs": [
    {
     "data": {
      "image/png": "[encoded data removed]",
      "text/plain": [
       "<Figure size 640x480 with 1 Axes>"
      ]
     },
     "metadata": {},
     "output_type": "display_data"
    }
   ],
   "source": [
    "grouped_df9 = df.groupby('smoker')['tip'].mean()\n",
    "grouped_df9.plot(kind = 'bar')\n",
    "plt.show()"
   ]
  },
  {
   "cell_type": "markdown",
   "id": "d6d95684-e559-46d6-94bf-73ad06b5c85b",
   "metadata": {},
   "source": [
    "Those who smoke tend to give a higher tip than those who don't but by only a small amount (nothing higher than $0.5)"
   ]
  },
  {
   "cell_type": "markdown",
   "id": "91d16efc-555a-40be-9d6a-4d54102a33f2",
   "metadata": {},
   "source": [
    "## Customer Gender & Tip Amt"
   ]
  },
  {
   "cell_type": "code",
   "execution_count": 273,
   "id": "f28104ce-bdb3-4986-b191-d28de31103c2",
   "metadata": {},
   "outputs": [
    {
     "data": {
      "image/png": "[encoded data removed]",
      "text/plain": [
       "<Figure size 640x480 with 1 Axes>"
      ]
     },
     "metadata": {},
     "output_type": "display_data"
    }
   ],
   "source": [
    "grouped_df10 = df.groupby('sex')['tip'].mean()\n",
    "grouped_df10.plot(kind = 'bar')\n",
    "plt.show()"
   ]
  },
  {
   "cell_type": "markdown",
   "id": "3cde4ca2-419a-4c4d-87e9-4a438b23643c",
   "metadata": {},
   "source": [
    "Male customers tend to give a higher tip than the female counterparts but by only a small amount."
   ]
  },
  {
   "cell_type": "markdown",
   "id": "27a300f2-300e-4346-a708-e5f8dff82a74",
   "metadata": {
    "jp-MarkdownHeadingCollapsed": true
   },
   "source": [
    "# Q4: How do the sizes differ by day or time?"
   ]
  },
  {
   "cell_type": "markdown",
   "id": "1849eb05-a7f0-4e6b-8481-02a4bfa93e1f",
   "metadata": {},
   "source": [
    "## Day & Size"
   ]
  },
  {
   "cell_type": "code",
   "execution_count": 274,
   "id": "61238767-d302-48c6-8ce2-6dfefffd9300",
   "metadata": {},
   "outputs": [
    {
     "data": {
      "image/png": "[encoded data removed]",
      "text/plain": [
       "<Figure size 640x480 with 1 Axes>"
      ]
     },
     "metadata": {},
     "output_type": "display_data"
    }
   ],
   "source": [
    "grouped_df11 = df.groupby('day')['size'].mean()\n",
    "grouped_df11.plot(kind = 'bar')\n",
    "plt.show()"
   ]
  },
  {
   "cell_type": "raw",
   "id": "6fc8f53e-117c-4db2-af89-5c1790f758b6",
   "metadata": {},
   "source": [
    "Although the average size is below 3 for all days, Sunday's have a party size that are much closer to being 3 than any other day. This is followed by Saturday, Thursday, and finally Friday."
   ]
  },
  {
   "cell_type": "markdown",
   "id": "17ea454b-c226-4945-8285-768a5a2f46fe",
   "metadata": {},
   "source": [
    "## Day, Time, & Size"
   ]
  },
  {
   "cell_type": "code",
   "execution_count": 275,
   "id": "fcfc1125-7f2a-4fb5-bfb9-d2328bf51fdb",
   "metadata": {},
   "outputs": [
    {
     "data": {
      "image/png": "[encoded data removed]",
      "text/plain": [
       "<Figure size 640x480 with 1 Axes>"
      ]
     },
     "metadata": {},
     "output_type": "display_data"
    }
   ],
   "source": [
    "df.groupby(['day', 'time', 'size']).size().unstack(fill_value = 0).plot(kind = 'bar', stacked = True)\n",
    "plt.show()"
   ]
  },
  {
   "cell_type": "raw",
   "id": "b48be22b-7810-45de-9518-fcb0dffb3090",
   "metadata": {},
   "source": [
    "Both Saturday and Sunday - during dinner time - have some variation of the size quantity. A size of 2 is the most common but there are some instances where a party size of 3 and 4 come into the restaurant. Thursday (during lunch time) and Friday (regardless of the time) have some 4 and 3 sizes but not nearly as much as Saturday and Sunday do."
   ]
  },
  {
   "cell_type": "markdown",
   "id": "c913f615-9ec0-4709-b7d2-6c5d4996da2a",
   "metadata": {
    "jp-MarkdownHeadingCollapsed": true
   },
   "source": [
    "# Q5: What is more popular (dinner or lunch) for each day?"
   ]
  },
  {
   "cell_type": "code",
   "execution_count": 276,
   "id": "74141d0c-0c6f-4967-9ab8-e14dccf9b9d2",
   "metadata": {},
   "outputs": [
    {
     "data": {
      "image/png": "[encoded data removed]",
      "text/plain": [
       "<Figure size 640x480 with 1 Axes>"
      ]
     },
     "metadata": {},
     "output_type": "display_data"
    }
   ],
   "source": [
    "df.groupby(['day', 'time']).size().unstack(fill_value=0).plot(kind = 'bar', stacked = True)\n",
    "plt.show()"
   ]
  },
  {
   "cell_type": "raw",
   "id": "3b41dc1e-27d6-4468-bff8-0ad1c3dd6af4",
   "metadata": {},
   "source": [
    "Both Saturday and Sunday exclusively serve dinner while Thursday has almost the oppposite; on that day, lunch is mainly served but there are some instances where dinner is served. Friday has the most mix, with dinner being served on that day a bit more than lunch."
   ]
  },
  {
   "cell_type": "markdown",
   "id": "b9ee54b0-c78e-4d9f-8b2c-c3225502a443",
   "metadata": {
    "jp-MarkdownHeadingCollapsed": true
   },
   "source": [
    "# Q6: What is the distribution for the total bill amount and the tips that the workers recieve?"
   ]
  },
  {
   "cell_type": "code",
   "execution_count": 277,
   "id": "dcfe8dde-3fa8-4d02-9300-87d995bd850a",
   "metadata": {},
   "outputs": [
    {
     "data": {
      "image/png": "[encoded data removed]",
      "text/plain": [
       "<Figure size 640x480 with 1 Axes>"
      ]
     },
     "metadata": {},
     "output_type": "display_data"
    }
   ],
   "source": [
    "df['total_bill'].plot(kind = 'hist')\n",
    "plt.show()"
   ]
  },
  {
   "cell_type": "raw",
   "id": "0ba3babd-07f2-4f13-b9e0-7e922b77edc5",
   "metadata": {},
   "source": [
    "As expected, the average bill amount comes to be around the $15 - $20 range."
   ]
  },
  {
   "cell_type": "code",
   "execution_count": 278,
   "id": "a2851a97-8adb-4a44-8829-4477d97a2165",
   "metadata": {},
   "outputs": [
    {
     "data": {
      "image/png": "[encoded data removed]",
      "text/plain": [
       "<Figure size 640x480 with 1 Axes>"
      ]
     },
     "metadata": {},
     "output_type": "display_data"
    }
   ],
   "source": [
    "df['tip'].plot(kind = 'hist')\n",
    "plt.show()"
   ]
  },
  {
   "cell_type": "raw",
   "id": "6832d523-6d07-4f95-a94f-58c6b7a733c9",
   "metadata": {},
   "source": [
    "Most tips come to be around the $2 - $3 range as it was shown when the average of all columns were taken."
   ]
  },
  {
   "cell_type": "code",
   "execution_count": 279,
   "id": "7b1a48ad-fce6-4ea2-9704-488cd5e48c8e",
   "metadata": {},
   "outputs": [
    {
     "data": {
      "image/png": "[encoded data removed]",
      "text/plain": [
       "<Figure size 640x480 with 1 Axes>"
      ]
     },
     "metadata": {},
     "output_type": "display_data"
    }
   ],
   "source": [
    "df['tip_percentage'].plot(kind = 'hist')\n",
    "plt.show()"
   ]
  },
  {
   "cell_type": "raw",
   "id": "d1fea629-3f50-4ab0-8d02-1cfd36eeffbe",
   "metadata": {},
   "source": [
    "Just as when we found out the average tip percentage, this histogram also shows that most tips are between the 10% and 20% range."
   ]
  },
  {
   "cell_type": "markdown",
   "id": "15eb6872-628e-4c35-9ac3-61aaf19f04dc",
   "metadata": {},
   "source": [
    "# Q7: Build a model that can predict how much the total bill amount will change based on the existing factors (gender, smoker, day, etc.)"
   ]
  },
  {
   "cell_type": "markdown",
   "id": "de941856-2343-486d-98d9-ca4b19d29bdc",
   "metadata": {},
   "source": [
    "In this section, I will build a regression model (Linear, Polynomial, and a Decision Tree) to then predict the total bill column value based on all of the other columns, excluding the tip column."
   ]
  },
  {
   "cell_type": "markdown",
   "id": "d0bcb947-1c4c-4d45-9995-561324979db3",
   "metadata": {},
   "source": [
    "## Finding the best ML model"
   ]
  },
  {
   "cell_type": "code",
   "execution_count": 335,
   "id": "77d2f124-7c59-45b8-bfe8-ea06cc4b4fc7",
   "metadata": {},
   "outputs": [
    {
     "data": {
      "text/html": [
       "<div>\n",
       "<style scoped>\n",
       "    .dataframe tbody tr th:only-of-type {\n",
       "        vertical-align: middle;\n",
       "    }\n",
       "\n",
       "    .dataframe tbody tr th {\n",
       "        vertical-align: top;\n",
       "    }\n",
       "\n",
       "    .dataframe thead th {\n",
       "        text-align: right;\n",
       "    }\n",
       "</style>\n",
       "<table border=\"1\" class=\"dataframe\">\n",
       "  <thead>\n",
       "    <tr style=\"text-align: right;\">\n",
       "      <th></th>\n",
       "      <th>total_bill</th>\n",
       "      <th>sex</th>\n",
       "      <th>smoker</th>\n",
       "      <th>day</th>\n",
       "      <th>time</th>\n",
       "      <th>size</th>\n",
       "    </tr>\n",
       "  </thead>\n",
       "  <tbody>\n",
       "    <tr>\n",
       "      <th>0</th>\n",
       "      <td>16.99</td>\n",
       "      <td>Female</td>\n",
       "      <td>No</td>\n",
       "      <td>Sun</td>\n",
       "      <td>Dinner</td>\n",
       "      <td>2</td>\n",
       "    </tr>\n",
       "    <tr>\n",
       "      <th>1</th>\n",
       "      <td>10.34</td>\n",
       "      <td>Male</td>\n",
       "      <td>No</td>\n",
       "      <td>Sun</td>\n",
       "      <td>Dinner</td>\n",
       "      <td>3</td>\n",
       "    </tr>\n",
       "    <tr>\n",
       "      <th>2</th>\n",
       "      <td>21.01</td>\n",
       "      <td>Male</td>\n",
       "      <td>No</td>\n",
       "      <td>Sun</td>\n",
       "      <td>Dinner</td>\n",
       "      <td>3</td>\n",
       "    </tr>\n",
       "    <tr>\n",
       "      <th>3</th>\n",
       "      <td>23.68</td>\n",
       "      <td>Male</td>\n",
       "      <td>No</td>\n",
       "      <td>Sun</td>\n",
       "      <td>Dinner</td>\n",
       "      <td>2</td>\n",
       "    </tr>\n",
       "    <tr>\n",
       "      <th>4</th>\n",
       "      <td>24.59</td>\n",
       "      <td>Female</td>\n",
       "      <td>No</td>\n",
       "      <td>Sun</td>\n",
       "      <td>Dinner</td>\n",
       "      <td>4</td>\n",
       "    </tr>\n",
       "    <tr>\n",
       "      <th>...</th>\n",
       "      <td>...</td>\n",
       "      <td>...</td>\n",
       "      <td>...</td>\n",
       "      <td>...</td>\n",
       "      <td>...</td>\n",
       "      <td>...</td>\n",
       "    </tr>\n",
       "    <tr>\n",
       "      <th>216</th>\n",
       "      <td>35.83</td>\n",
       "      <td>Female</td>\n",
       "      <td>No</td>\n",
       "      <td>Sat</td>\n",
       "      <td>Dinner</td>\n",
       "      <td>3</td>\n",
       "    </tr>\n",
       "    <tr>\n",
       "      <th>217</th>\n",
       "      <td>27.18</td>\n",
       "      <td>Female</td>\n",
       "      <td>Yes</td>\n",
       "      <td>Sat</td>\n",
       "      <td>Dinner</td>\n",
       "      <td>2</td>\n",
       "    </tr>\n",
       "    <tr>\n",
       "      <th>218</th>\n",
       "      <td>22.67</td>\n",
       "      <td>Male</td>\n",
       "      <td>Yes</td>\n",
       "      <td>Sat</td>\n",
       "      <td>Dinner</td>\n",
       "      <td>2</td>\n",
       "    </tr>\n",
       "    <tr>\n",
       "      <th>219</th>\n",
       "      <td>17.82</td>\n",
       "      <td>Male</td>\n",
       "      <td>No</td>\n",
       "      <td>Sat</td>\n",
       "      <td>Dinner</td>\n",
       "      <td>2</td>\n",
       "    </tr>\n",
       "    <tr>\n",
       "      <th>220</th>\n",
       "      <td>18.78</td>\n",
       "      <td>Female</td>\n",
       "      <td>No</td>\n",
       "      <td>Thur</td>\n",
       "      <td>Dinner</td>\n",
       "      <td>2</td>\n",
       "    </tr>\n",
       "  </tbody>\n",
       "</table>\n",
       "<p>221 rows × 6 columns</p>\n",
       "</div>"
      ],
      "text/plain": [
       "     total_bill     sex smoker   day    time  size\n",
       "0         16.99  Female     No   Sun  Dinner     2\n",
       "1         10.34    Male     No   Sun  Dinner     3\n",
       "2         21.01    Male     No   Sun  Dinner     3\n",
       "3         23.68    Male     No   Sun  Dinner     2\n",
       "4         24.59  Female     No   Sun  Dinner     4\n",
       "..          ...     ...    ...   ...     ...   ...\n",
       "216       35.83  Female     No   Sat  Dinner     3\n",
       "217       27.18  Female    Yes   Sat  Dinner     2\n",
       "218       22.67    Male    Yes   Sat  Dinner     2\n",
       "219       17.82    Male     No   Sat  Dinner     2\n",
       "220       18.78  Female     No  Thur  Dinner     2\n",
       "\n",
       "[221 rows x 6 columns]"
      ]
     },
     "execution_count": 335,
     "metadata": {},
     "output_type": "execute_result"
    }
   ],
   "source": [
    "# Making adjustments to the df\n",
    "df2 = df.copy()\n",
    "df2.drop(['tip', 'tip_percentage'], axis = 1, inplace = True)\n",
    "df2"
   ]
  },
  {
   "cell_type": "code",
   "execution_count": 362,
   "id": "055b8831-78d0-41ec-90cc-5d61f0379aba",
   "metadata": {},
   "outputs": [
    {
     "name": "stderr",
     "output_type": "stream",
     "text": [
      "/opt/anaconda3/lib/python3.11/site-packages/sklearn/preprocessing/_encoders.py:868: FutureWarning: `sparse` was renamed to `sparse_output` in version 1.2 and will be removed in 1.4. `sparse_output` is ignored unless you leave `sparse` to its default value.\n",
      "  warnings.warn(\n"
     ]
    },
    {
     "data": {
      "text/html": [
       "<div>\n",
       "<style scoped>\n",
       "    .dataframe tbody tr th:only-of-type {\n",
       "        vertical-align: middle;\n",
       "    }\n",
       "\n",
       "    .dataframe tbody tr th {\n",
       "        vertical-align: top;\n",
       "    }\n",
       "\n",
       "    .dataframe thead th {\n",
       "        text-align: right;\n",
       "    }\n",
       "</style>\n",
       "<table border=\"1\" class=\"dataframe\">\n",
       "  <thead>\n",
       "    <tr style=\"text-align: right;\">\n",
       "      <th></th>\n",
       "      <th>total_bill</th>\n",
       "      <th>size</th>\n",
       "      <th>sex_Male</th>\n",
       "      <th>smoker_Yes</th>\n",
       "      <th>day_Sat</th>\n",
       "      <th>day_Sun</th>\n",
       "      <th>day_Thur</th>\n",
       "      <th>time_Lunch</th>\n",
       "    </tr>\n",
       "  </thead>\n",
       "  <tbody>\n",
       "    <tr>\n",
       "      <th>0</th>\n",
       "      <td>16.99</td>\n",
       "      <td>-0.550757</td>\n",
       "      <td>0.0</td>\n",
       "      <td>0.0</td>\n",
       "      <td>0.0</td>\n",
       "      <td>1.0</td>\n",
       "      <td>0.0</td>\n",
       "      <td>0.0</td>\n",
       "    </tr>\n",
       "    <tr>\n",
       "      <th>1</th>\n",
       "      <td>10.34</td>\n",
       "      <td>0.786796</td>\n",
       "      <td>1.0</td>\n",
       "      <td>0.0</td>\n",
       "      <td>0.0</td>\n",
       "      <td>1.0</td>\n",
       "      <td>0.0</td>\n",
       "      <td>0.0</td>\n",
       "    </tr>\n",
       "    <tr>\n",
       "      <th>2</th>\n",
       "      <td>21.01</td>\n",
       "      <td>0.786796</td>\n",
       "      <td>1.0</td>\n",
       "      <td>0.0</td>\n",
       "      <td>0.0</td>\n",
       "      <td>1.0</td>\n",
       "      <td>0.0</td>\n",
       "      <td>0.0</td>\n",
       "    </tr>\n",
       "    <tr>\n",
       "      <th>3</th>\n",
       "      <td>23.68</td>\n",
       "      <td>-0.550757</td>\n",
       "      <td>1.0</td>\n",
       "      <td>0.0</td>\n",
       "      <td>0.0</td>\n",
       "      <td>1.0</td>\n",
       "      <td>0.0</td>\n",
       "      <td>0.0</td>\n",
       "    </tr>\n",
       "    <tr>\n",
       "      <th>4</th>\n",
       "      <td>24.59</td>\n",
       "      <td>2.124349</td>\n",
       "      <td>0.0</td>\n",
       "      <td>0.0</td>\n",
       "      <td>0.0</td>\n",
       "      <td>1.0</td>\n",
       "      <td>0.0</td>\n",
       "      <td>0.0</td>\n",
       "    </tr>\n",
       "    <tr>\n",
       "      <th>...</th>\n",
       "      <td>...</td>\n",
       "      <td>...</td>\n",
       "      <td>...</td>\n",
       "      <td>...</td>\n",
       "      <td>...</td>\n",
       "      <td>...</td>\n",
       "      <td>...</td>\n",
       "      <td>...</td>\n",
       "    </tr>\n",
       "    <tr>\n",
       "      <th>216</th>\n",
       "      <td>35.83</td>\n",
       "      <td>0.786796</td>\n",
       "      <td>0.0</td>\n",
       "      <td>0.0</td>\n",
       "      <td>1.0</td>\n",
       "      <td>0.0</td>\n",
       "      <td>0.0</td>\n",
       "      <td>0.0</td>\n",
       "    </tr>\n",
       "    <tr>\n",
       "      <th>217</th>\n",
       "      <td>27.18</td>\n",
       "      <td>-0.550757</td>\n",
       "      <td>0.0</td>\n",
       "      <td>1.0</td>\n",
       "      <td>1.0</td>\n",
       "      <td>0.0</td>\n",
       "      <td>0.0</td>\n",
       "      <td>0.0</td>\n",
       "    </tr>\n",
       "    <tr>\n",
       "      <th>218</th>\n",
       "      <td>22.67</td>\n",
       "      <td>-0.550757</td>\n",
       "      <td>1.0</td>\n",
       "      <td>1.0</td>\n",
       "      <td>1.0</td>\n",
       "      <td>0.0</td>\n",
       "      <td>0.0</td>\n",
       "      <td>0.0</td>\n",
       "    </tr>\n",
       "    <tr>\n",
       "      <th>219</th>\n",
       "      <td>17.82</td>\n",
       "      <td>-0.550757</td>\n",
       "      <td>1.0</td>\n",
       "      <td>0.0</td>\n",
       "      <td>1.0</td>\n",
       "      <td>0.0</td>\n",
       "      <td>0.0</td>\n",
       "      <td>0.0</td>\n",
       "    </tr>\n",
       "    <tr>\n",
       "      <th>220</th>\n",
       "      <td>18.78</td>\n",
       "      <td>-0.550757</td>\n",
       "      <td>0.0</td>\n",
       "      <td>0.0</td>\n",
       "      <td>0.0</td>\n",
       "      <td>0.0</td>\n",
       "      <td>1.0</td>\n",
       "      <td>0.0</td>\n",
       "    </tr>\n",
       "  </tbody>\n",
       "</table>\n",
       "<p>221 rows × 8 columns</p>\n",
       "</div>"
      ],
      "text/plain": [
       "     total_bill      size  sex_Male  smoker_Yes  day_Sat  day_Sun  day_Thur  \\\n",
       "0         16.99 -0.550757       0.0         0.0      0.0      1.0       0.0   \n",
       "1         10.34  0.786796       1.0         0.0      0.0      1.0       0.0   \n",
       "2         21.01  0.786796       1.0         0.0      0.0      1.0       0.0   \n",
       "3         23.68 -0.550757       1.0         0.0      0.0      1.0       0.0   \n",
       "4         24.59  2.124349       0.0         0.0      0.0      1.0       0.0   \n",
       "..          ...       ...       ...         ...      ...      ...       ...   \n",
       "216       35.83  0.786796       0.0         0.0      1.0      0.0       0.0   \n",
       "217       27.18 -0.550757       0.0         1.0      1.0      0.0       0.0   \n",
       "218       22.67 -0.550757       1.0         1.0      1.0      0.0       0.0   \n",
       "219       17.82 -0.550757       1.0         0.0      1.0      0.0       0.0   \n",
       "220       18.78 -0.550757       0.0         0.0      0.0      0.0       1.0   \n",
       "\n",
       "     time_Lunch  \n",
       "0           0.0  \n",
       "1           0.0  \n",
       "2           0.0  \n",
       "3           0.0  \n",
       "4           0.0  \n",
       "..          ...  \n",
       "216         0.0  \n",
       "217         0.0  \n",
       "218         0.0  \n",
       "219         0.0  \n",
       "220         0.0  \n",
       "\n",
       "[221 rows x 8 columns]"
      ]
     },
     "execution_count": 362,
     "metadata": {},
     "output_type": "execute_result"
    }
   ],
   "source": [
    "import pandas as pd\n",
    "import numpy as np\n",
    "import matplotlib.pyplot as plt\n",
    "from sklearn.model_selection import train_test_split\n",
    "from sklearn.preprocessing import OneHotEncoder, StandardScaler\n",
    "from sklearn.linear_model import LinearRegression\n",
    "from sklearn.metrics import mean_squared_error, r2_score\n",
    "from sklearn.preprocessing import PolynomialFeatures\n",
    "\n",
    "# Numerating the categorical columns such as sex and day\n",
    "categorical_columns = ['sex', 'smoker', 'day', 'time']\n",
    "encoder = OneHotEncoder(drop = 'first', sparse=False)\n",
    "encoded_features = encoder.fit_transform(df2[categorical_columns])\n",
    "encoded_df = pd.DataFrame(encoded_features, columns=encoder.get_feature_names_out(categorical_columns))\n",
    "\n",
    "# Standardizing the size column since its values are not binary but a range from 1-4\n",
    "scaler = StandardScaler()\n",
    "size_scaled = scaler.fit_transform(df2[['size']])\n",
    "size_scaled_df = pd.DataFrame(size_scaled, columns=['size'])\n",
    "\n",
    "# Getting the final dataframe for ML usage\n",
    "total_bill_ML = pd.concat([df2['total_bill'],size_scaled_df, encoded_df], axis = 1)\n",
    "total_bill_ML"
   ]
  },
  {
   "cell_type": "code",
   "execution_count": 363,
   "id": "795bd86f-bad5-45b6-aba7-57addc5014d2",
   "metadata": {},
   "outputs": [
    {
     "data": {
      "text/plain": [
       "array([13.73045243, 14.53846668, 13.73045243, 18.4174221 , 17.16666032,\n",
       "       26.33068782, 16.14238295, 14.47317565, 12.8152311 , 16.14238295,\n",
       "       14.23849098, 20.07536664, 26.33068782, 19.57859084, 14.47317565,\n",
       "       14.53846668, 19.57859084, 14.03042813, 19.57859084, 20.26309074,\n",
       "       16.14238295, 13.73045243, 19.33264342, 24.42679585, 14.23849098,\n",
       "       16.14238295, 26.33068782, 17.90938354, 13.73045243, 21.23653538,\n",
       "       14.47317565, 26.33068782, 20.26309074, 17.90938354, 20.72849682,\n",
       "       16.14238295, 16.14238295, 26.33068782, 14.23849098, 19.57859084,\n",
       "       20.26309074, 16.14238295, 16.82688285, 17.90938354, 14.03042813])"
      ]
     },
     "execution_count": 363,
     "metadata": {},
     "output_type": "execute_result"
    }
   ],
   "source": [
    "# Seperating the independent and dependent variables\n",
    "X = total_bill_ML.loc[:, 'size': 'time_Lunch']\n",
    "y = total_bill_ML['total_bill']\n",
    "X_train, X_test, y_train, y_test = train_test_split(X, y, test_size = 0.2, random_state = 0)\n",
    "\n",
    "# Creating a linear regression class and training it\n",
    "regressor = LinearRegression()\n",
    "regressor.fit(X_train, y_train)\n",
    "\n",
    "# Testing the ML model\n",
    "y_pred = regressor.predict(X_test)\n",
    "y_pred"
   ]
  },
  {
   "cell_type": "code",
   "execution_count": 338,
   "id": "1e412227-7c76-4d2e-8e02-9ff3e1281246",
   "metadata": {},
   "outputs": [
    {
     "name": "stdout",
     "output_type": "stream",
     "text": [
      "Mean Squared Error (MSE): 25.781928549892843\n",
      "Root Mean Squared Error (RMSE): 5.077590821432231\n",
      "R-squared (R2): 0.2987054710508461\n"
     ]
    }
   ],
   "source": [
    "# Using various metrics to see how well the model performed (to then compare to the other models)\n",
    "linearReg_mse = mean_squared_error(y_test, y_pred)\n",
    "linearReg_rmse = np.sqrt(linearReg_mse)\n",
    "linearReg_r2 = r2_score(y_test, y_pred)\n",
    "\n",
    "print(f\"Mean Squared Error (MSE): {linearReg_mse}\")\n",
    "print(f\"Root Mean Squared Error (RMSE): {linearReg_rmse}\")\n",
    "print(f\"R-squared (R2): {linearReg_r2}\")\n"
   ]
  },
  {
   "cell_type": "code",
   "execution_count": 339,
   "id": "842b30c6-d952-4143-9ad6-e99cae62affb",
   "metadata": {},
   "outputs": [
    {
     "data": {
      "image/png": "[encoded data removed]",
      "text/plain": [
       "<Figure size 800x600 with 1 Axes>"
      ]
     },
     "metadata": {},
     "output_type": "display_data"
    }
   ],
   "source": [
    "# Scatter plot with different colors for actual and predicted\n",
    "plt.figure(figsize=(8, 6))\n",
    "plt.scatter(y_test, y_pred, color='red', label='Predicted', alpha=0.5)  # Predicted values in red\n",
    "plt.scatter(y_test, y_test, color='blue', label='Actual', alpha=0.5)  # Actual values in blue\n",
    "plt.title('Linear Regression - Predicted vs Actual Values')\n",
    "plt.xlabel('Actual Values')\n",
    "plt.ylabel('Predicted Values')\n",
    "plt.legend()  # Show legend to differentiate between actual and predicted\n",
    "plt.grid(True)\n",
    "plt.show()"
   ]
  },
  {
   "cell_type": "code",
   "execution_count": 322,
   "id": "1ceafecc-0ea1-4393-97eb-9ed665b36b3b",
   "metadata": {},
   "outputs": [
    {
     "name": "stdout",
     "output_type": "stream",
     "text": [
      "Mean Squared Error (MSE): 25.78192854989282\n",
      "Root Mean Squared Error (RMSE): 5.07759082143223\n",
      "R-squared (R2): 0.29870547105084666\n",
      "\n",
      "Mean Squared Error (MSE): 1.1399929479740747e+22\n",
      "Root Mean Squared Error (RMSE): 106770452278.43117\n",
      "R-squared (R2): -3.1008961021194004e+20\n",
      "\n",
      "Mean Squared Error (MSE): 42.013541443822575\n",
      "Root Mean Squared Error (RMSE): 6.48178535928355\n",
      "R-squared (R2): -0.14281081414500196\n",
      "\n",
      "Mean Squared Error (MSE): 1.138280859398603e+25\n",
      "Root Mean Squared Error (RMSE): 3373841815199.1104\n",
      "R-squared (R2): -3.096239048056392e+23\n",
      "\n",
      "Mean Squared Error (MSE): 7.032888189547285e+26\n",
      "Root Mean Squared Error (RMSE): 26519593114426.332\n",
      "R-squared (R2): -1.913016708775702e+25\n",
      "\n",
      "Mean Squared Error (MSE): 4.877611132759597e+24\n",
      "Root Mean Squared Error (RMSE): 2208531442556.2515\n",
      "R-squared (R2): -1.3267595537417652e+23\n",
      "\n",
      "Mean Squared Error (MSE): 3.3676373195605985e+26\n",
      "Root Mean Squared Error (RMSE): 18351123452150.277\n",
      "R-squared (R2): -9.160314066973307e+24\n",
      "\n",
      "Mean Squared Error (MSE): 3.882328727142077e+25\n",
      "Root Mean Squared Error (RMSE): 6230833593622.989\n",
      "R-squared (R2): -1.0560326744595635e+24\n",
      "\n",
      "Mean Squared Error (MSE): 1.5993141203106477e+26\n",
      "Root Mean Squared Error (RMSE): 12646399172533.848\n",
      "R-squared (R2): -4.350296140471027e+24\n",
      "\n",
      "Mean Squared Error (MSE): 7.719479836010934e+25\n",
      "Root Mean Squared Error (RMSE): 8786057042844.039\n",
      "R-squared (R2): -2.0997765798828424e+24\n",
      "\n"
     ]
    }
   ],
   "source": [
    "# Building a polynomial regression model to see if they will perform better\n",
    "for i in range(1, 11):\n",
    "    poly = PolynomialFeatures(degree=i) \n",
    "    X_train_poly = poly.fit_transform(X_train)\n",
    "    X_test_poly = poly.transform(X_test)\n",
    "    model = LinearRegression()\n",
    "    model.fit(X_train_poly, y_train)\n",
    "\n",
    "    y_pred2 = model.predict(X_test_poly)\n",
    "\n",
    "    mse = mean_squared_error(y_test, y_pred2)\n",
    "    rmse = np.sqrt(mse)\n",
    "    r2 = r2_score(y_test, y_pred2)\n",
    "\n",
    "    print(f\"Mean Squared Error (MSE): {mse}\")\n",
    "    print(f\"Root Mean Squared Error (RMSE): {rmse}\")\n",
    "    print(f\"R-squared (R2): {r2}\")\n",
    "    print()"
   ]
  },
  {
   "cell_type": "markdown",
   "id": "98895b25-716d-4d1d-9507-63e277c890ff",
   "metadata": {},
   "source": [
    "A degree of 1 has the best results, therefore, we will save the MSE, RMSE, and R2 for that degree only (to compare later)."
   ]
  },
  {
   "cell_type": "code",
   "execution_count": 340,
   "id": "83d6e7cd-a778-4cb8-99e4-558ecff78407",
   "metadata": {},
   "outputs": [
    {
     "name": "stdout",
     "output_type": "stream",
     "text": [
      "Mean Squared Error (MSE): 25.78192854989282\n",
      "Root Mean Squared Error (RMSE): 5.07759082143223\n",
      "R-squared (R2): 0.29870547105084666\n",
      "\n"
     ]
    }
   ],
   "source": [
    "poly = PolynomialFeatures(degree=1) \n",
    "X_train_poly = poly.fit_transform(X_train)\n",
    "X_test_poly = poly.transform(X_test)\n",
    "model = LinearRegression()\n",
    "model.fit(X_train_poly, y_train)\n",
    "\n",
    "y_pred2 = model.predict(X_test_poly)\n",
    "\n",
    "Poly_linearReg_mse = mean_squared_error(y_test, y_pred2)\n",
    "Poly_linearReg_rmse = np.sqrt(Poly_linearReg_mse)\n",
    "Poly_linearReg_r2 = r2_score(y_test, y_pred2)\n",
    "\n",
    "print(f\"Mean Squared Error (MSE): {Poly_linearReg_mse}\")\n",
    "print(f\"Root Mean Squared Error (RMSE): {Poly_linearReg_rmse}\")\n",
    "print(f\"R-squared (R2): {Poly_linearReg_r2}\")\n",
    "print()"
   ]
  },
  {
   "cell_type": "code",
   "execution_count": 341,
   "id": "ddae49c6-1f41-4ae5-a484-e475cb745095",
   "metadata": {},
   "outputs": [
    {
     "data": {
      "image/png": "[encoded data removed]",
      "text/plain": [
       "<Figure size 800x600 with 1 Axes>"
      ]
     },
     "metadata": {},
     "output_type": "display_data"
    }
   ],
   "source": [
    "import matplotlib.pyplot as plt\n",
    "\n",
    "plt.figure(figsize=(8, 6))\n",
    "plt.scatter(y_test, y_pred2, color='red', label='Predicted', alpha=0.5)  # Predicted values in red\n",
    "plt.scatter(y_test, y_test, color='blue', label='Actual', alpha=0.5)  # Actual values in blue\n",
    "plt.title('Polynomial Linear Regression - Actual vs Predicted Values')\n",
    "plt.xlabel('Actual Values')\n",
    "plt.ylabel('Predicted Values')\n",
    "plt.legend()  # Show legend to differentiate between actual and predicted\n",
    "plt.grid(True)\n",
    "plt.show()\n"
   ]
  },
  {
   "cell_type": "code",
   "execution_count": 342,
   "id": "334b2683-67ba-44b4-82a2-c826f35e7387",
   "metadata": {},
   "outputs": [
    {
     "name": "stdout",
     "output_type": "stream",
     "text": [
      "Mean Squared Error (MSE): 36.59584834668367\n",
      "Root Mean Squared Error (RMSE): 6.049450251608295\n",
      "R-squared (R2): 0.004555916826909923\n"
     ]
    },
    {
     "data": {
      "image/png": "[encoded data removed]",
      "text/plain": [
       "<Figure size 800x600 with 1 Axes>"
      ]
     },
     "metadata": {},
     "output_type": "display_data"
    }
   ],
   "source": [
    "from sklearn.tree import DecisionTreeRegressor\n",
    "\n",
    "# Training the model\n",
    "regressor2 = DecisionTreeRegressor(random_state=0)\n",
    "regressor2.fit(X_train, y_train)\n",
    "\n",
    "# Testing the model\n",
    "y_pred3 = regressor2.predict(X_test)\n",
    "\n",
    "decisionTree_mse = mean_squared_error(y_test, y_pred3)\n",
    "decisionTree_rmse = np.sqrt(decisionTree_mse)\n",
    "decisionTree_r2 = r2_score(y_test, y_pred3)\n",
    "\n",
    "print(\"Mean Squared Error (MSE):\", decisionTree_mse)\n",
    "print(\"Root Mean Squared Error (RMSE):\", decisionTree_rmse)\n",
    "print(\"R-squared (R2):\", decisionTree_r2)\n",
    "\n",
    "# Plotting actual vs predicted values\n",
    "plt.figure(figsize=(8, 6))\n",
    "plt.scatter(y_test, y_pred3, color='red', label='Predicted', alpha=0.5)\n",
    "plt.scatter(y_test, y_test, color='blue', label='Actual', alpha=0.5)\n",
    "plt.title('Decision Tree - Actual vs Predicted Values')\n",
    "plt.xlabel('Actual Values')\n",
    "plt.ylabel('Predicted Values')\n",
    "plt.legend()\n",
    "plt.grid(True)\n",
    "plt.show()"
   ]
  },
  {
   "cell_type": "code",
   "execution_count": 343,
   "id": "42f47b92-5024-4bd4-b1ad-1d8cd4721aad",
   "metadata": {},
   "outputs": [
    {
     "name": "stdout",
     "output_type": "stream",
     "text": [
      "             Linear Regression         Polynomial Linear Regression (1st Degree)            Decision Tree\n",
      "-----------------------------------------------------------------------------------------------------------------\n",
      "MSE:                25.78               25.78                                             36.60               \n",
      "RMSE:               5.08                5.08                                              6.05                \n",
      "R2 Score:           0.30                0.30                                              0.00                \n"
     ]
    }
   ],
   "source": [
    "print(format('Linear Regression', '>30s') + format('Polynomial Linear Regression (1st Degree)', '>50s') + format(\"Decision Tree\", '>25s'))\n",
    "print('-'*113)\n",
    "print(format(\"MSE:\", '<20s') + format(linearReg_mse, '<20.2f') + format(Poly_linearReg_mse,'<50.2f') + format(decisionTree_mse, '<20.2f'))\n",
    "print(format(\"RMSE:\", '<20s') + format(linearReg_rmse, '<20.2f') + format(Poly_linearReg_rmse,'<50.2f') + format(decisionTree_rmse, '<20.2f'))\n",
    "print(format(\"R2 Score:\", '<20s') + format(linearReg_r2, '<20.2f') + format(Poly_linearReg_r2,'<50.2f') + format(decisionTree_r2, '<20.2f'))"
   ]
  },
  {
   "cell_type": "markdown",
   "id": "81830a1b-9ded-49cc-8259-1ed019b94a28",
   "metadata": {},
   "source": [
    "The decision tree model has the worst outcome while the Linear Regression and Polynomial Linear Regression have essentially the same values (since the polynomial degree is 1). Since the linear regression model came first, I will use that model to find the coefficients for each variable."
   ]
  },
  {
   "cell_type": "markdown",
   "id": "29000885-fa9f-4bb0-a4fa-d34a6d2f5651",
   "metadata": {
    "jp-MarkdownHeadingCollapsed": true
   },
   "source": [
    "## Insights based on ML model"
   ]
  },
  {
   "cell_type": "code",
   "execution_count": 344,
   "id": "8fbeba69-f511-475b-a9ea-6b96ac2f817a",
   "metadata": {},
   "outputs": [
    {
     "name": "stdout",
     "output_type": "stream",
     "text": [
      "[ 3.80856162  0.50803856  3.43620789 -2.35370721 -1.19253847  3.13623219\n",
      " -6.23266262]\n",
      "18.924475033377835\n"
     ]
    }
   ],
   "source": [
    "# Getting the coefficients and intercept\n",
    "coefficients = regressor.coef_\n",
    "intercept = regressor.intercept_\n",
    "print(coefficients)\n",
    "print(intercept)\n",
    "# size\tsex_Male\tsmoker_Yes\tday_Sat\tday_Sun\tday_Thur\ttime_Lunch"
   ]
  },
  {
   "cell_type": "raw",
   "id": "029eceb2-89b2-40a2-936e-1d65aeb29edf",
   "metadata": {},
   "source": [
    "    * Thursday seems to have the most positive impact out of any of the other days as if the day is Thursday, the total bill amount\n",
    "increases by $3.13. Saturday and Sunday, on the other hand, have a negative effect on the total bill amount \n",
    "    * Lunch time has a drastic negative effect on the total bill, reducing it by $6.23\n",
    "    * Size is the most important factor as it has the biggest coefficient; as the size increases, the total bill also increases by almost $4.\n",
    "    * Having a male customer does have a positive correlation with the total bill amount as well as if the customer is a smoker. Surprisingly, if the customer is a smoker, it increases the bill by $3.43."
   ]
  },
  {
   "cell_type": "markdown",
   "id": "8873a254-56c2-4810-85b5-982d6991fb44",
   "metadata": {},
   "source": [
    "# Q8: Build a model that can predict how much the tip amount will change based on the existing factors (gender, smoker, day, etc.)"
   ]
  },
  {
   "cell_type": "markdown",
   "id": "90c5ceb9-e1b5-45f0-8632-af0c57ff1cd9",
   "metadata": {},
   "source": [
    "## Finding the best model (same method used for the total bill ML model)"
   ]
  },
  {
   "cell_type": "code",
   "execution_count": 350,
   "id": "9329b09c-bba9-440b-9655-185a75f57ebd",
   "metadata": {},
   "outputs": [
    {
     "data": {
      "text/html": [
       "<div>\n",
       "<style scoped>\n",
       "    .dataframe tbody tr th:only-of-type {\n",
       "        vertical-align: middle;\n",
       "    }\n",
       "\n",
       "    .dataframe tbody tr th {\n",
       "        vertical-align: top;\n",
       "    }\n",
       "\n",
       "    .dataframe thead th {\n",
       "        text-align: right;\n",
       "    }\n",
       "</style>\n",
       "<table border=\"1\" class=\"dataframe\">\n",
       "  <thead>\n",
       "    <tr style=\"text-align: right;\">\n",
       "      <th></th>\n",
       "      <th>total_bill</th>\n",
       "      <th>tip</th>\n",
       "      <th>sex</th>\n",
       "      <th>smoker</th>\n",
       "      <th>day</th>\n",
       "      <th>time</th>\n",
       "      <th>size</th>\n",
       "    </tr>\n",
       "  </thead>\n",
       "  <tbody>\n",
       "    <tr>\n",
       "      <th>0</th>\n",
       "      <td>16.99</td>\n",
       "      <td>1.01</td>\n",
       "      <td>Female</td>\n",
       "      <td>No</td>\n",
       "      <td>Sun</td>\n",
       "      <td>Dinner</td>\n",
       "      <td>2</td>\n",
       "    </tr>\n",
       "    <tr>\n",
       "      <th>1</th>\n",
       "      <td>10.34</td>\n",
       "      <td>1.66</td>\n",
       "      <td>Male</td>\n",
       "      <td>No</td>\n",
       "      <td>Sun</td>\n",
       "      <td>Dinner</td>\n",
       "      <td>3</td>\n",
       "    </tr>\n",
       "    <tr>\n",
       "      <th>2</th>\n",
       "      <td>21.01</td>\n",
       "      <td>3.50</td>\n",
       "      <td>Male</td>\n",
       "      <td>No</td>\n",
       "      <td>Sun</td>\n",
       "      <td>Dinner</td>\n",
       "      <td>3</td>\n",
       "    </tr>\n",
       "    <tr>\n",
       "      <th>3</th>\n",
       "      <td>23.68</td>\n",
       "      <td>3.31</td>\n",
       "      <td>Male</td>\n",
       "      <td>No</td>\n",
       "      <td>Sun</td>\n",
       "      <td>Dinner</td>\n",
       "      <td>2</td>\n",
       "    </tr>\n",
       "    <tr>\n",
       "      <th>4</th>\n",
       "      <td>24.59</td>\n",
       "      <td>3.61</td>\n",
       "      <td>Female</td>\n",
       "      <td>No</td>\n",
       "      <td>Sun</td>\n",
       "      <td>Dinner</td>\n",
       "      <td>4</td>\n",
       "    </tr>\n",
       "    <tr>\n",
       "      <th>...</th>\n",
       "      <td>...</td>\n",
       "      <td>...</td>\n",
       "      <td>...</td>\n",
       "      <td>...</td>\n",
       "      <td>...</td>\n",
       "      <td>...</td>\n",
       "      <td>...</td>\n",
       "    </tr>\n",
       "    <tr>\n",
       "      <th>216</th>\n",
       "      <td>35.83</td>\n",
       "      <td>4.67</td>\n",
       "      <td>Female</td>\n",
       "      <td>No</td>\n",
       "      <td>Sat</td>\n",
       "      <td>Dinner</td>\n",
       "      <td>3</td>\n",
       "    </tr>\n",
       "    <tr>\n",
       "      <th>217</th>\n",
       "      <td>27.18</td>\n",
       "      <td>2.00</td>\n",
       "      <td>Female</td>\n",
       "      <td>Yes</td>\n",
       "      <td>Sat</td>\n",
       "      <td>Dinner</td>\n",
       "      <td>2</td>\n",
       "    </tr>\n",
       "    <tr>\n",
       "      <th>218</th>\n",
       "      <td>22.67</td>\n",
       "      <td>2.00</td>\n",
       "      <td>Male</td>\n",
       "      <td>Yes</td>\n",
       "      <td>Sat</td>\n",
       "      <td>Dinner</td>\n",
       "      <td>2</td>\n",
       "    </tr>\n",
       "    <tr>\n",
       "      <th>219</th>\n",
       "      <td>17.82</td>\n",
       "      <td>1.75</td>\n",
       "      <td>Male</td>\n",
       "      <td>No</td>\n",
       "      <td>Sat</td>\n",
       "      <td>Dinner</td>\n",
       "      <td>2</td>\n",
       "    </tr>\n",
       "    <tr>\n",
       "      <th>220</th>\n",
       "      <td>18.78</td>\n",
       "      <td>3.00</td>\n",
       "      <td>Female</td>\n",
       "      <td>No</td>\n",
       "      <td>Thur</td>\n",
       "      <td>Dinner</td>\n",
       "      <td>2</td>\n",
       "    </tr>\n",
       "  </tbody>\n",
       "</table>\n",
       "<p>221 rows × 7 columns</p>\n",
       "</div>"
      ],
      "text/plain": [
       "     total_bill   tip     sex smoker   day    time  size\n",
       "0         16.99  1.01  Female     No   Sun  Dinner     2\n",
       "1         10.34  1.66    Male     No   Sun  Dinner     3\n",
       "2         21.01  3.50    Male     No   Sun  Dinner     3\n",
       "3         23.68  3.31    Male     No   Sun  Dinner     2\n",
       "4         24.59  3.61  Female     No   Sun  Dinner     4\n",
       "..          ...   ...     ...    ...   ...     ...   ...\n",
       "216       35.83  4.67  Female     No   Sat  Dinner     3\n",
       "217       27.18  2.00  Female    Yes   Sat  Dinner     2\n",
       "218       22.67  2.00    Male    Yes   Sat  Dinner     2\n",
       "219       17.82  1.75    Male     No   Sat  Dinner     2\n",
       "220       18.78  3.00  Female     No  Thur  Dinner     2\n",
       "\n",
       "[221 rows x 7 columns]"
      ]
     },
     "execution_count": 350,
     "metadata": {},
     "output_type": "execute_result"
    }
   ],
   "source": [
    "# Making adjustments to the df\n",
    "df3 = df.copy()\n",
    "df3.drop(['tip_percentage'], axis = 1, inplace = True)\n",
    "df3"
   ]
  },
  {
   "cell_type": "code",
   "execution_count": 364,
   "id": "2a5dd3ef-6bb5-4072-a1c2-c6349a7e99a0",
   "metadata": {},
   "outputs": [
    {
     "name": "stderr",
     "output_type": "stream",
     "text": [
      "/opt/anaconda3/lib/python3.11/site-packages/sklearn/preprocessing/_encoders.py:868: FutureWarning: `sparse` was renamed to `sparse_output` in version 1.2 and will be removed in 1.4. `sparse_output` is ignored unless you leave `sparse` to its default value.\n",
      "  warnings.warn(\n"
     ]
    },
    {
     "data": {
      "text/html": [
       "<div>\n",
       "<style scoped>\n",
       "    .dataframe tbody tr th:only-of-type {\n",
       "        vertical-align: middle;\n",
       "    }\n",
       "\n",
       "    .dataframe tbody tr th {\n",
       "        vertical-align: top;\n",
       "    }\n",
       "\n",
       "    .dataframe thead th {\n",
       "        text-align: right;\n",
       "    }\n",
       "</style>\n",
       "<table border=\"1\" class=\"dataframe\">\n",
       "  <thead>\n",
       "    <tr style=\"text-align: right;\">\n",
       "      <th></th>\n",
       "      <th>tip</th>\n",
       "      <th>size</th>\n",
       "      <th>total_bill</th>\n",
       "      <th>sex_Male</th>\n",
       "      <th>smoker_Yes</th>\n",
       "      <th>day_Sat</th>\n",
       "      <th>day_Sun</th>\n",
       "      <th>day_Thur</th>\n",
       "      <th>time_Lunch</th>\n",
       "    </tr>\n",
       "  </thead>\n",
       "  <tbody>\n",
       "    <tr>\n",
       "      <th>0</th>\n",
       "      <td>1.01</td>\n",
       "      <td>-0.550757</td>\n",
       "      <td>-0.173290</td>\n",
       "      <td>0.0</td>\n",
       "      <td>0.0</td>\n",
       "      <td>0.0</td>\n",
       "      <td>1.0</td>\n",
       "      <td>0.0</td>\n",
       "      <td>0.0</td>\n",
       "    </tr>\n",
       "    <tr>\n",
       "      <th>1</th>\n",
       "      <td>1.66</td>\n",
       "      <td>0.786796</td>\n",
       "      <td>-1.107196</td>\n",
       "      <td>1.0</td>\n",
       "      <td>0.0</td>\n",
       "      <td>0.0</td>\n",
       "      <td>1.0</td>\n",
       "      <td>0.0</td>\n",
       "      <td>0.0</td>\n",
       "    </tr>\n",
       "    <tr>\n",
       "      <th>2</th>\n",
       "      <td>3.50</td>\n",
       "      <td>0.786796</td>\n",
       "      <td>0.391266</td>\n",
       "      <td>1.0</td>\n",
       "      <td>0.0</td>\n",
       "      <td>0.0</td>\n",
       "      <td>1.0</td>\n",
       "      <td>0.0</td>\n",
       "      <td>0.0</td>\n",
       "    </tr>\n",
       "    <tr>\n",
       "      <th>3</th>\n",
       "      <td>3.31</td>\n",
       "      <td>-0.550757</td>\n",
       "      <td>0.766233</td>\n",
       "      <td>1.0</td>\n",
       "      <td>0.0</td>\n",
       "      <td>0.0</td>\n",
       "      <td>1.0</td>\n",
       "      <td>0.0</td>\n",
       "      <td>0.0</td>\n",
       "    </tr>\n",
       "    <tr>\n",
       "      <th>4</th>\n",
       "      <td>3.61</td>\n",
       "      <td>2.124349</td>\n",
       "      <td>0.894031</td>\n",
       "      <td>0.0</td>\n",
       "      <td>0.0</td>\n",
       "      <td>0.0</td>\n",
       "      <td>1.0</td>\n",
       "      <td>0.0</td>\n",
       "      <td>0.0</td>\n",
       "    </tr>\n",
       "    <tr>\n",
       "      <th>...</th>\n",
       "      <td>...</td>\n",
       "      <td>...</td>\n",
       "      <td>...</td>\n",
       "      <td>...</td>\n",
       "      <td>...</td>\n",
       "      <td>...</td>\n",
       "      <td>...</td>\n",
       "      <td>...</td>\n",
       "      <td>...</td>\n",
       "    </tr>\n",
       "    <tr>\n",
       "      <th>216</th>\n",
       "      <td>4.67</td>\n",
       "      <td>0.786796</td>\n",
       "      <td>2.472543</td>\n",
       "      <td>0.0</td>\n",
       "      <td>0.0</td>\n",
       "      <td>1.0</td>\n",
       "      <td>0.0</td>\n",
       "      <td>0.0</td>\n",
       "      <td>0.0</td>\n",
       "    </tr>\n",
       "    <tr>\n",
       "      <th>217</th>\n",
       "      <td>2.00</td>\n",
       "      <td>-0.550757</td>\n",
       "      <td>1.257763</td>\n",
       "      <td>0.0</td>\n",
       "      <td>1.0</td>\n",
       "      <td>1.0</td>\n",
       "      <td>0.0</td>\n",
       "      <td>0.0</td>\n",
       "      <td>0.0</td>\n",
       "    </tr>\n",
       "    <tr>\n",
       "      <th>218</th>\n",
       "      <td>2.00</td>\n",
       "      <td>-0.550757</td>\n",
       "      <td>0.624392</td>\n",
       "      <td>1.0</td>\n",
       "      <td>1.0</td>\n",
       "      <td>1.0</td>\n",
       "      <td>0.0</td>\n",
       "      <td>0.0</td>\n",
       "      <td>0.0</td>\n",
       "    </tr>\n",
       "    <tr>\n",
       "      <th>219</th>\n",
       "      <td>1.75</td>\n",
       "      <td>-0.550757</td>\n",
       "      <td>-0.056728</td>\n",
       "      <td>1.0</td>\n",
       "      <td>0.0</td>\n",
       "      <td>1.0</td>\n",
       "      <td>0.0</td>\n",
       "      <td>0.0</td>\n",
       "      <td>0.0</td>\n",
       "    </tr>\n",
       "    <tr>\n",
       "      <th>220</th>\n",
       "      <td>3.00</td>\n",
       "      <td>-0.550757</td>\n",
       "      <td>0.078092</td>\n",
       "      <td>0.0</td>\n",
       "      <td>0.0</td>\n",
       "      <td>0.0</td>\n",
       "      <td>0.0</td>\n",
       "      <td>1.0</td>\n",
       "      <td>0.0</td>\n",
       "    </tr>\n",
       "  </tbody>\n",
       "</table>\n",
       "<p>221 rows × 9 columns</p>\n",
       "</div>"
      ],
      "text/plain": [
       "      tip      size  total_bill  sex_Male  smoker_Yes  day_Sat  day_Sun  \\\n",
       "0    1.01 -0.550757   -0.173290       0.0         0.0      0.0      1.0   \n",
       "1    1.66  0.786796   -1.107196       1.0         0.0      0.0      1.0   \n",
       "2    3.50  0.786796    0.391266       1.0         0.0      0.0      1.0   \n",
       "3    3.31 -0.550757    0.766233       1.0         0.0      0.0      1.0   \n",
       "4    3.61  2.124349    0.894031       0.0         0.0      0.0      1.0   \n",
       "..    ...       ...         ...       ...         ...      ...      ...   \n",
       "216  4.67  0.786796    2.472543       0.0         0.0      1.0      0.0   \n",
       "217  2.00 -0.550757    1.257763       0.0         1.0      1.0      0.0   \n",
       "218  2.00 -0.550757    0.624392       1.0         1.0      1.0      0.0   \n",
       "219  1.75 -0.550757   -0.056728       1.0         0.0      1.0      0.0   \n",
       "220  3.00 -0.550757    0.078092       0.0         0.0      0.0      0.0   \n",
       "\n",
       "     day_Thur  time_Lunch  \n",
       "0         0.0         0.0  \n",
       "1         0.0         0.0  \n",
       "2         0.0         0.0  \n",
       "3         0.0         0.0  \n",
       "4         0.0         0.0  \n",
       "..        ...         ...  \n",
       "216       0.0         0.0  \n",
       "217       0.0         0.0  \n",
       "218       0.0         0.0  \n",
       "219       0.0         0.0  \n",
       "220       1.0         0.0  \n",
       "\n",
       "[221 rows x 9 columns]"
      ]
     },
     "execution_count": 364,
     "metadata": {},
     "output_type": "execute_result"
    }
   ],
   "source": [
    "import pandas as pd\n",
    "import numpy as np\n",
    "import matplotlib.pyplot as plt\n",
    "from sklearn.model_selection import train_test_split\n",
    "from sklearn.preprocessing import OneHotEncoder, StandardScaler\n",
    "from sklearn.linear_model import LinearRegression\n",
    "from sklearn.metrics import mean_squared_error, r2_score\n",
    "from sklearn.preprocessing import PolynomialFeatures\n",
    "\n",
    "# Numerating the categorical columns such as sex and day\n",
    "categorical_columns = ['sex', 'smoker', 'day', 'time']\n",
    "encoder = OneHotEncoder(drop = 'first', sparse=False)\n",
    "encoded_features = encoder.fit_transform(df3[categorical_columns])\n",
    "encoded_df = pd.DataFrame(encoded_features, columns=encoder.get_feature_names_out(categorical_columns))\n",
    "\n",
    "# Standardizing the size and total bill column since its values are not binary but a range\n",
    "scaler = StandardScaler()\n",
    "size_scaled = scaler.fit_transform(df3[['size', 'total_bill']])\n",
    "size_scaled_df = pd.DataFrame(size_scaled, columns=['size', 'total_bill'])\n",
    "\n",
    "# Getting the final dataframe for ML usage\n",
    "tip_ML = pd.concat([df3['tip'],size_scaled_df, encoded_df], axis = 1)\n",
    "tip_ML"
   ]
  },
  {
   "cell_type": "code",
   "execution_count": 365,
   "id": "a2450f8c-23be-45e0-869d-6af967ddac37",
   "metadata": {},
   "outputs": [
    {
     "data": {
      "text/plain": [
       "array([1.99237691, 2.55667421, 2.28840835, 2.2401369 , 2.29079888,\n",
       "       3.16682294, 2.82708025, 2.4453109 , 1.21616972, 2.54074031,\n",
       "       2.25793405, 2.76620341, 3.6531603 , 3.17395974, 2.5968508 ,\n",
       "       2.44566242, 2.60039883, 2.94044793, 2.50084064, 2.47930514,\n",
       "       3.32575225, 2.22673513, 3.22515198, 3.71572405, 2.63325962,\n",
       "       2.57422006, 4.2187918 , 1.9869144 , 2.24523709, 2.84100646,\n",
       "       3.47437256, 3.5879629 , 2.39648683, 3.44504544, 2.94813175,\n",
       "       3.11694436, 2.33105138, 3.79324661, 3.11519175, 1.75723786,\n",
       "       2.04142531, 2.45527886, 3.14298535, 2.31113931, 2.39596154])"
      ]
     },
     "execution_count": 365,
     "metadata": {},
     "output_type": "execute_result"
    }
   ],
   "source": [
    "# Seperating the independent and dependent variables\n",
    "X = tip_ML.loc[:, 'size': 'time_Lunch']\n",
    "y = tip_ML['tip']\n",
    "X_train, X_test, y_train, y_test = train_test_split(X, y, test_size = 0.2, random_state = 0)\n",
    "\n",
    "# Creating a linear regression class and training it\n",
    "regressor = LinearRegression()\n",
    "regressor.fit(X_train, y_train)\n",
    "\n",
    "# Testing the ML model\n",
    "y_pred = regressor.predict(X_test)\n",
    "y_pred"
   ]
  },
  {
   "cell_type": "code",
   "execution_count": 353,
   "id": "8f63b1af-b41e-4b3a-b1aa-a7da8cf7ba90",
   "metadata": {},
   "outputs": [
    {
     "name": "stdout",
     "output_type": "stream",
     "text": [
      "Mean Squared Error (MSE): 1.0328170309201874\n",
      "Root Mean Squared Error (RMSE): 1.0162760603891974\n",
      "R-squared (R2): 0.09636345773585919\n"
     ]
    }
   ],
   "source": [
    "# Using various metrics to see how well the model performed (to then compare to the other models)\n",
    "linearReg_mse = mean_squared_error(y_test, y_pred)\n",
    "linearReg_rmse = np.sqrt(linearReg_mse)\n",
    "linearReg_r2 = r2_score(y_test, y_pred)\n",
    "\n",
    "print(f\"Mean Squared Error (MSE): {linearReg_mse}\")\n",
    "print(f\"Root Mean Squared Error (RMSE): {linearReg_rmse}\")\n",
    "print(f\"R-squared (R2): {linearReg_r2}\")"
   ]
  },
  {
   "cell_type": "code",
   "execution_count": 354,
   "id": "9282bf88-56e8-4308-97ac-a918fa655796",
   "metadata": {},
   "outputs": [
    {
     "data": {
      "image/png": "[encoded data removed]",
      "text/plain": [
       "<Figure size 800x600 with 1 Axes>"
      ]
     },
     "metadata": {},
     "output_type": "display_data"
    }
   ],
   "source": [
    "# Scatter plot with different colors for actual and predicted\n",
    "plt.figure(figsize=(8, 6))\n",
    "plt.scatter(y_test, y_pred, color='red', label='Predicted', alpha=0.5)  # Predicted values in red\n",
    "plt.scatter(y_test, y_test, color='blue', label='Actual', alpha=0.5)  # Actual values in blue\n",
    "plt.title('Linear Regression - Predicted vs Actual Values')\n",
    "plt.xlabel('Actual Values')\n",
    "plt.ylabel('Predicted Values')\n",
    "plt.legend()  # Show legend to differentiate between actual and predicted\n",
    "plt.grid(True)\n",
    "plt.show()"
   ]
  },
  {
   "cell_type": "code",
   "execution_count": 355,
   "id": "6c5df6f1-1ff9-4acb-a0a6-e718beb49292",
   "metadata": {},
   "outputs": [
    {
     "name": "stdout",
     "output_type": "stream",
     "text": [
      "Mean Squared Error (MSE): 1.0328170309201876\n",
      "Root Mean Squared Error (RMSE): 1.0162760603891974\n",
      "R-squared (R2): 0.09636345773585908\n",
      "\n",
      "Mean Squared Error (MSE): 1.1914903721778078\n",
      "Root Mean Squared Error (RMSE): 1.0915541086807414\n",
      "R-squared (R2): -0.04246367732385914\n",
      "\n",
      "Mean Squared Error (MSE): 3.362575187805786e+22\n",
      "Root Mean Squared Error (RMSE): 183373258350.44177\n",
      "R-squared (R2): -2.9419981708713934e+22\n",
      "\n",
      "Mean Squared Error (MSE): 11.029575113428258\n",
      "Root Mean Squared Error (RMSE): 3.321080413574513\n",
      "R-squared (R2): -8.650041410782201\n",
      "\n",
      "Mean Squared Error (MSE): 98.98520399476237\n",
      "Root Mean Squared Error (RMSE): 9.949130816044303\n",
      "R-squared (R2): -85.60454349154689\n",
      "\n",
      "Mean Squared Error (MSE): 1.1096839037742243e+24\n",
      "Root Mean Squared Error (RMSE): 1053415351973.8662\n",
      "R-squared (R2): -9.708892241245418e+23\n",
      "\n",
      "Mean Squared Error (MSE): 925021.4091565061\n",
      "Root Mean Squared Error (RMSE): 961.7803331096483\n",
      "R-squared (R2): -809322.5516708695\n",
      "\n",
      "Mean Squared Error (MSE): 3387827.680480814\n",
      "Root Mean Squared Error (RMSE): 1840.6052484117322\n",
      "R-squared (R2): -2964091.186056331\n",
      "\n",
      "Mean Squared Error (MSE): 1.473760916826624e+18\n",
      "Root Mean Squared Error (RMSE): 1213985550.50158\n",
      "R-squared (R2): -1.2894289880354936e+18\n",
      "\n",
      "Mean Squared Error (MSE): 3.4486030200721024e+18\n",
      "Root Mean Squared Error (RMSE): 1857041469.6694586\n",
      "R-squared (R2): -3.017265997175877e+18\n",
      "\n"
     ]
    }
   ],
   "source": [
    "# Building a polynomial regression model to see if they will perform better\n",
    "for i in range(1, 11):\n",
    "    poly = PolynomialFeatures(degree=i) \n",
    "    X_train_poly = poly.fit_transform(X_train)\n",
    "    X_test_poly = poly.transform(X_test)\n",
    "    model = LinearRegression()\n",
    "    model.fit(X_train_poly, y_train)\n",
    "\n",
    "    y_pred2 = model.predict(X_test_poly)\n",
    "\n",
    "    mse = mean_squared_error(y_test, y_pred2)\n",
    "    rmse = np.sqrt(mse)\n",
    "    r2 = r2_score(y_test, y_pred2)\n",
    "\n",
    "    print(f\"Mean Squared Error (MSE): {mse}\")\n",
    "    print(f\"Root Mean Squared Error (RMSE): {rmse}\")\n",
    "    print(f\"R-squared (R2): {r2}\")\n",
    "    print()"
   ]
  },
  {
   "cell_type": "markdown",
   "id": "772694ee-2712-4ca6-b2b3-6a3f14205942",
   "metadata": {},
   "source": [
    "Same as the total bill ML model, the model polynomial regression model performs the best in the 1st degree"
   ]
  },
  {
   "cell_type": "code",
   "execution_count": 357,
   "id": "85fe5835-45ab-4e39-9d1e-fc4b7ca8cf15",
   "metadata": {},
   "outputs": [
    {
     "name": "stdout",
     "output_type": "stream",
     "text": [
      "Mean Squared Error (MSE): 1.0328170309201876\n",
      "Root Mean Squared Error (RMSE): 1.0162760603891974\n",
      "R-squared (R2): 0.09636345773585908\n",
      "\n"
     ]
    }
   ],
   "source": [
    "poly = PolynomialFeatures(degree=1) \n",
    "X_train_poly = poly.fit_transform(X_train)\n",
    "X_test_poly = poly.transform(X_test)\n",
    "model = LinearRegression()\n",
    "model.fit(X_train_poly, y_train)\n",
    "\n",
    "y_pred2 = model.predict(X_test_poly)\n",
    "\n",
    "Poly_linearReg_mse = mean_squared_error(y_test, y_pred2)\n",
    "Poly_linearReg_rmse = np.sqrt(Poly_linearReg_mse)\n",
    "Poly_linearReg_r2 = r2_score(y_test, y_pred2)\n",
    "\n",
    "print(f\"Mean Squared Error (MSE): {Poly_linearReg_mse}\")\n",
    "print(f\"Root Mean Squared Error (RMSE): {Poly_linearReg_rmse}\")\n",
    "print(f\"R-squared (R2): {Poly_linearReg_r2}\")\n",
    "print()"
   ]
  },
  {
   "cell_type": "code",
   "execution_count": 358,
   "id": "220e8650-e109-4621-89d5-e14f6a433093",
   "metadata": {},
   "outputs": [
    {
     "data": {
      "image/png": "[encoded data removed]",
      "text/plain": [
       "<Figure size 800x600 with 1 Axes>"
      ]
     },
     "metadata": {},
     "output_type": "display_data"
    }
   ],
   "source": [
    "import matplotlib.pyplot as plt\n",
    "\n",
    "plt.figure(figsize=(8, 6))\n",
    "plt.scatter(y_test, y_pred2, color='red', label='Predicted', alpha=0.5)  # Predicted values in red\n",
    "plt.scatter(y_test, y_test, color='blue', label='Actual', alpha=0.5)  # Actual values in blue\n",
    "plt.title('Polynomial Linear Regression - Actual vs Predicted Values')\n",
    "plt.xlabel('Actual Values')\n",
    "plt.ylabel('Predicted Values')\n",
    "plt.legend()  # Show legend to differentiate between actual and predicted\n",
    "plt.grid(True)\n",
    "plt.show()"
   ]
  },
  {
   "cell_type": "code",
   "execution_count": 359,
   "id": "f25ef345-fac5-431a-baeb-0413e33212d4",
   "metadata": {},
   "outputs": [
    {
     "name": "stdout",
     "output_type": "stream",
     "text": [
      "Mean Squared Error (MSE): 1.76374\n",
      "Root Mean Squared Error (RMSE): 1.3280587336409486\n",
      "R-squared (R2): -0.5431386851095774\n"
     ]
    },
    {
     "data": {
      "image/png": "[encoded data removed]",
      "text/plain": [
       "<Figure size 800x600 with 1 Axes>"
      ]
     },
     "metadata": {},
     "output_type": "display_data"
    }
   ],
   "source": [
    "from sklearn.tree import DecisionTreeRegressor\n",
    "\n",
    "# Training the model\n",
    "regressor2 = DecisionTreeRegressor(random_state=0)\n",
    "regressor2.fit(X_train, y_train)\n",
    "\n",
    "# Testing the model\n",
    "y_pred3 = regressor2.predict(X_test)\n",
    "\n",
    "decisionTree_mse = mean_squared_error(y_test, y_pred3)\n",
    "decisionTree_rmse = np.sqrt(decisionTree_mse)\n",
    "decisionTree_r2 = r2_score(y_test, y_pred3)\n",
    "\n",
    "print(\"Mean Squared Error (MSE):\", decisionTree_mse)\n",
    "print(\"Root Mean Squared Error (RMSE):\", decisionTree_rmse)\n",
    "print(\"R-squared (R2):\", decisionTree_r2)\n",
    "\n",
    "# Plotting actual vs predicted values\n",
    "plt.figure(figsize=(8, 6))\n",
    "plt.scatter(y_test, y_pred3, color='red', label='Predicted', alpha=0.5)\n",
    "plt.scatter(y_test, y_test, color='blue', label='Actual', alpha=0.5)\n",
    "plt.title('Decision Tree - Actual vs Predicted Values')\n",
    "plt.xlabel('Actual Values')\n",
    "plt.ylabel('Predicted Values')\n",
    "plt.legend()\n",
    "plt.grid(True)\n",
    "plt.show()"
   ]
  },
  {
   "cell_type": "code",
   "execution_count": 360,
   "id": "6b84990f-0fbc-4005-a8ca-448957e71537",
   "metadata": {},
   "outputs": [
    {
     "name": "stdout",
     "output_type": "stream",
     "text": [
      "             Linear Regression         Polynomial Linear Regression (1st Degree)            Decision Tree\n",
      "-----------------------------------------------------------------------------------------------------------------\n",
      "MSE:                1.03                1.03                                              1.76                \n",
      "RMSE:               1.02                1.02                                              1.33                \n",
      "R2 Score:           0.10                0.10                                              -0.54               \n"
     ]
    }
   ],
   "source": [
    "print(format('Linear Regression', '>30s') + format('Polynomial Linear Regression (1st Degree)', '>50s') + format(\"Decision Tree\", '>25s'))\n",
    "print('-'*113)\n",
    "print(format(\"MSE:\", '<20s') + format(linearReg_mse, '<20.2f') + format(Poly_linearReg_mse,'<50.2f') + format(decisionTree_mse, '<20.2f'))\n",
    "print(format(\"RMSE:\", '<20s') + format(linearReg_rmse, '<20.2f') + format(Poly_linearReg_rmse,'<50.2f') + format(decisionTree_rmse, '<20.2f'))\n",
    "print(format(\"R2 Score:\", '<20s') + format(linearReg_r2, '<20.2f') + format(Poly_linearReg_r2,'<50.2f') + format(decisionTree_r2, '<20.2f'))"
   ]
  },
  {
   "cell_type": "markdown",
   "id": "ca17898a-3de4-4921-bc3d-ae7fb2446807",
   "metadata": {},
   "source": [
    "Just like the total bill ML model, I will use the linear regression model to perform some analysis since it and the polynomial linear regression are essentially the same."
   ]
  },
  {
   "cell_type": "markdown",
   "id": "f74fe9ae-917b-48fe-97a6-89640a1d8fb5",
   "metadata": {},
   "source": [
    "## Insights based on ML model"
   ]
  },
  {
   "cell_type": "code",
   "execution_count": 361,
   "id": "8358b49c-6c85-407b-84ad-700443de166e",
   "metadata": {},
   "outputs": [
    {
     "name": "stdout",
     "output_type": "stream",
     "text": [
      "[ 0.0782578   0.62736028 -0.13267563 -0.09716766  0.0089244   0.20971702\n",
      " -0.36154703  0.46554802]\n",
      "2.787319407823601\n"
     ]
    }
   ],
   "source": [
    "# Getting the coefficients and intercept\n",
    "coefficients = regressor.coef_\n",
    "intercept = regressor.intercept_\n",
    "print(coefficients)\n",
    "print(intercept)\n",
    "# size\ttotal_bill\tsex_Male\tsmoker_Yes\tday_Sat\t day_Sun\tday_Thur\ttime_Lunch"
   ]
  },
  {
   "cell_type": "raw",
   "id": "908a92b1-54f9-47ed-bf10-d30e7fa58649",
   "metadata": {},
   "source": [
    "    * As expected, as the total bill increases, so does the relationship between that and the tip amount given.\n",
    "    * The weakest factor is if the day is Thursday. Based on the coefficient of -0.36, a Thursday will result in a lower tip. Saturday and Sunday also have a negative relationship with the tip amount but it is not as big as Thursday\n",
    "    * If a person is a male or smokes, that will result in lower tips\n",
    "    * Lunch has a strong relationship with the tip amount, as lunch time results in a tip increasing by $0.46 (although it is not in this model, the relationship between dinner and the tip amount must be just as strong if not stronger).\n",
    "    * Although size does have a positive correlation with the tip amount, it is not one of the bigger factors like the total bill amount (the tip only increases by $0.07)"
   ]
  },
  {
   "cell_type": "code",
   "execution_count": null,
   "id": "68f038b3-354e-4dd4-947c-a93b5938c0ce",
   "metadata": {},
   "outputs": [],
   "source": []
  }
 ],
 "metadata": {
  "kernelspec": {
   "display_name": "Python 3 (ipykernel)",
   "language": "python",
   "name": "python3"
  },
  "language_info": {
   "codemirror_mode": {
    "name": "ipython",
    "version": 3
   },
   "file_extension": ".py",
   "mimetype": "text/x-python",
   "name": "python",
   "nbconvert_exporter": "python",
   "pygments_lexer": "ipython3",
   "version": "3.11.7"
  }
 },
 "nbformat": 4,
 "nbformat_minor": 5
}
